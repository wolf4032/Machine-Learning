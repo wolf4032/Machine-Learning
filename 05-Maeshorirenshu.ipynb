{
 "cells": [
  {
   "cell_type": "code",
   "execution_count": 1,
   "id": "d833e65a",
   "metadata": {},
   "outputs": [
    {
     "data": {
      "text/plain": [
       "'\\n前回の復習\\n前回の講義で学んだこと\\n\\nSeaborn\\n    便利な機能が多く含まれた可視化ライブラリ\\n'"
      ]
     },
     "execution_count": 1,
     "metadata": {},
     "output_type": "execute_result"
    }
   ],
   "source": [
    "\"\"\"\n",
    "前回の復習\n",
    "前回の講義で学んだこと\n",
    "\n",
    "Seaborn\n",
    "    便利な機能が多く含まれた可視化ライブラリ\n",
    "\"\"\""
   ]
  },
  {
   "cell_type": "code",
   "execution_count": 2,
   "id": "2b34089d",
   "metadata": {},
   "outputs": [
    {
     "data": {
      "text/plain": [
       "'\\n本講座のゴール\\n    Kaggle入門データセット「タイタニック」を用いて、\\n    タイタニック号の乗客の「生・死」を判定！\\n'"
      ]
     },
     "execution_count": 2,
     "metadata": {},
     "output_type": "execute_result"
    }
   ],
   "source": [
    "\"\"\"\n",
    "本講座のゴール\n",
    "    Kaggle入門データセット「タイタニック」を用いて、\n",
    "    タイタニック号の乗客の「生・死」を判定！\n",
    "\"\"\""
   ]
  },
  {
   "cell_type": "code",
   "execution_count": 4,
   "id": "614e14f6",
   "metadata": {},
   "outputs": [
    {
     "data": {
      "text/plain": [
       "'\\n二つの専門用語\\n目的変数：予測したい変数\\n説明変数：目的変数を予測するためにモデルに投入する変数（学習用データのようなもの？）\\n\\n前処理：機械学習モデルが扱いやすいデータに加工すること\\n可視化・前処理を通じて、目的変数に関連がありそうな説明変数を選び抜こう\\n'"
      ]
     },
     "execution_count": 4,
     "metadata": {},
     "output_type": "execute_result"
    }
   ],
   "source": [
    "\"\"\"\n",
    "二つの専門用語\n",
    "目的変数：予測したい変数\n",
    "説明変数：目的変数を予測するためにモデルに投入する変数（学習用データのようなもの？）\n",
    "\n",
    "前処理：機械学習モデルが扱いやすいデータに加工すること\n",
    "可視化・前処理を通じて、目的変数に関連がありそうな説明変数を選び抜こう\n",
    "\"\"\""
   ]
  },
  {
   "cell_type": "code",
   "execution_count": 5,
   "id": "d0d91f07",
   "metadata": {},
   "outputs": [
    {
     "data": {
      "text/plain": [
       "'\\nDay7のゴール\\n・機械学習の前処理の基本的な考え方を習得する\\n・前処理に必要なPandas操作及び可視化操作に習熟する\\n'"
      ]
     },
     "execution_count": 5,
     "metadata": {},
     "output_type": "execute_result"
    }
   ],
   "source": [
    "\"\"\"\n",
    "Day7のゴール\n",
    "・機械学習の前処理の基本的な考え方を習得する\n",
    "・前処理に必要なPandas操作及び可視化操作に習熟する\n",
    "\"\"\""
   ]
  },
  {
   "cell_type": "code",
   "execution_count": 6,
   "id": "85187396",
   "metadata": {},
   "outputs": [
    {
     "data": {
      "text/plain": [
       "'\\nDay7の目次\\n・Titanicデータの確認\\n・データの可視化と前処理の方針決定\\n・前処理の実施\\n・前処理を施したデータの保存\\n'"
      ]
     },
     "execution_count": 6,
     "metadata": {},
     "output_type": "execute_result"
    }
   ],
   "source": [
    "\"\"\"\n",
    "Day7の目次\n",
    "・Titanicデータの確認\n",
    "・データの可視化と前処理の方針決定\n",
    "・前処理の実施\n",
    "・前処理を施したデータの保存\n",
    "\"\"\""
   ]
  },
  {
   "cell_type": "code",
   "execution_count": 8,
   "id": "b23e2f2f",
   "metadata": {},
   "outputs": [
    {
     "data": {
      "text/plain": [
       "'\\nTitanicデータの確認\\nTitanicデータセットとは\\n・kaggleのチュートリアルとして有名なデータセット\\n・タイタニック号の各乗客のデータが項目別（氏名・年齢など）に入っている\\n    →説明変数\\n・訓練用のデータセットには、各乗客の死亡・生存が0,1で書かれている\\n    →目的変数\\n'"
      ]
     },
     "execution_count": 8,
     "metadata": {},
     "output_type": "execute_result"
    }
   ],
   "source": [
    "\"\"\"\n",
    "Titanicデータの確認\n",
    "Titanicデータセットとは\n",
    "・kaggleのチュートリアルとして有名なデータセット\n",
    "・タイタニック号の各乗客のデータが項目別（氏名・年齢など）に入っている\n",
    "    →説明変数\n",
    "・訓練用のデータセットには、各乗客の死亡・生存が0,1で書かれている\n",
    "    →目的変数\n",
    "\"\"\""
   ]
  },
  {
   "cell_type": "code",
   "execution_count": 9,
   "id": "5b3c4dcf",
   "metadata": {},
   "outputs": [],
   "source": [
    "# 各種インポート\n",
    "# ライブラリのインポート\n",
    "import numpy as np\n",
    "import pandas as pd\n",
    "from matplotlib import pyplot as plt\n",
    "import seaborn as sns\n",
    "%matplotlib inline\n",
    "\n",
    "# データセットのインポート\n",
    "train=pd.read_csv(\"./titanic/train.csv\") # train:訓練用データ\n",
    "test=pd.read_csv(\"./titanic/test.csv\") # test:テスト用（Kaggle提出用データ）\n",
    "# trainも、testも同様の前処理を行うため、一つのリストに格納し、同時に前処理できるように\n",
    "data=[train,test]"
   ]
  },
  {
   "cell_type": "code",
   "execution_count": 12,
   "id": "fd3ea0bd",
   "metadata": {},
   "outputs": [
    {
     "name": "stdout",
     "output_type": "stream",
     "text": [
      "<class 'pandas.core.frame.DataFrame'>\n",
      "RangeIndex: 891 entries, 0 to 890\n",
      "Data columns (total 12 columns):\n",
      " #   Column       Non-Null Count  Dtype  \n",
      "---  ------       --------------  -----  \n",
      " 0   PassengerId  891 non-null    int64  \n",
      " 1   Survived     891 non-null    int64  \n",
      " 2   Pclass       891 non-null    int64  \n",
      " 3   Name         891 non-null    object \n",
      " 4   Sex          891 non-null    object \n",
      " 5   Age          714 non-null    float64\n",
      " 6   SibSp        891 non-null    int64  \n",
      " 7   Parch        891 non-null    int64  \n",
      " 8   Ticket       891 non-null    object \n",
      " 9   Fare         891 non-null    float64\n",
      " 10  Cabin        204 non-null    object \n",
      " 11  Embarked     889 non-null    object \n",
      "dtypes: float64(2), int64(5), object(5)\n",
      "memory usage: 83.7+ KB\n"
     ]
    }
   ],
   "source": [
    "\"\"\"\n",
    "データの概要を確認\n",
    "まずはデータの概要を確認する\n",
    "どのような関数を使えばよいか？\n",
    "\"\"\"\n",
    "# 概要の取得 データが入っている数とデータ型の確認\n",
    "train.info()\n",
    "\n",
    "# 概要からわかること\n",
    "# 行数：８９１\n",
    "# 列数：１２\n",
    "# 欠損値あり：Non-Null Countが行数（８９１）より少ない列が二つある\n",
    "# object(文字列)が混ざっている：下から二行目、５列が文字列"
   ]
  },
  {
   "cell_type": "code",
   "execution_count": 14,
   "id": "b9107ef9",
   "metadata": {},
   "outputs": [
    {
     "name": "stdout",
     "output_type": "stream",
     "text": [
      "<class 'pandas.core.frame.DataFrame'>\n",
      "RangeIndex: 418 entries, 0 to 417\n",
      "Data columns (total 11 columns):\n",
      " #   Column       Non-Null Count  Dtype  \n",
      "---  ------       --------------  -----  \n",
      " 0   PassengerId  418 non-null    int64  \n",
      " 1   Pclass       418 non-null    int64  \n",
      " 2   Name         418 non-null    object \n",
      " 3   Sex          418 non-null    object \n",
      " 4   Age          332 non-null    float64\n",
      " 5   SibSp        418 non-null    int64  \n",
      " 6   Parch        418 non-null    int64  \n",
      " 7   Ticket       418 non-null    object \n",
      " 8   Fare         417 non-null    float64\n",
      " 9   Cabin        91 non-null     object \n",
      " 10  Embarked     418 non-null    object \n",
      "dtypes: float64(2), int64(4), object(5)\n",
      "memory usage: 36.0+ KB\n"
     ]
    }
   ],
   "source": [
    "# testの概要を取得\n",
    "test.info()\n",
    "\n",
    "# 行数：４１８\n",
    "# 列数：１１\n",
    "# 欠損値あり\n",
    "# object(文字列)が混ざっている"
   ]
  },
  {
   "cell_type": "code",
   "execution_count": 17,
   "id": "ccf2ec4e",
   "metadata": {},
   "outputs": [
    {
     "data": {
      "text/html": [
       "<div>\n",
       "<style scoped>\n",
       "    .dataframe tbody tr th:only-of-type {\n",
       "        vertical-align: middle;\n",
       "    }\n",
       "\n",
       "    .dataframe tbody tr th {\n",
       "        vertical-align: top;\n",
       "    }\n",
       "\n",
       "    .dataframe thead th {\n",
       "        text-align: right;\n",
       "    }\n",
       "</style>\n",
       "<table border=\"1\" class=\"dataframe\">\n",
       "  <thead>\n",
       "    <tr style=\"text-align: right;\">\n",
       "      <th></th>\n",
       "      <th>PassengerId</th>\n",
       "      <th>Survived</th>\n",
       "      <th>Pclass</th>\n",
       "      <th>Name</th>\n",
       "      <th>Sex</th>\n",
       "      <th>Age</th>\n",
       "      <th>SibSp</th>\n",
       "      <th>Parch</th>\n",
       "      <th>Ticket</th>\n",
       "      <th>Fare</th>\n",
       "      <th>Cabin</th>\n",
       "      <th>Embarked</th>\n",
       "    </tr>\n",
       "  </thead>\n",
       "  <tbody>\n",
       "    <tr>\n",
       "      <th>0</th>\n",
       "      <td>1</td>\n",
       "      <td>0</td>\n",
       "      <td>3</td>\n",
       "      <td>Braund, Mr. Owen Harris</td>\n",
       "      <td>male</td>\n",
       "      <td>22.0</td>\n",
       "      <td>1</td>\n",
       "      <td>0</td>\n",
       "      <td>A/5 21171</td>\n",
       "      <td>7.2500</td>\n",
       "      <td>NaN</td>\n",
       "      <td>S</td>\n",
       "    </tr>\n",
       "    <tr>\n",
       "      <th>1</th>\n",
       "      <td>2</td>\n",
       "      <td>1</td>\n",
       "      <td>1</td>\n",
       "      <td>Cumings, Mrs. John Bradley (Florence Briggs Th...</td>\n",
       "      <td>female</td>\n",
       "      <td>38.0</td>\n",
       "      <td>1</td>\n",
       "      <td>0</td>\n",
       "      <td>PC 17599</td>\n",
       "      <td>71.2833</td>\n",
       "      <td>C85</td>\n",
       "      <td>C</td>\n",
       "    </tr>\n",
       "    <tr>\n",
       "      <th>2</th>\n",
       "      <td>3</td>\n",
       "      <td>1</td>\n",
       "      <td>3</td>\n",
       "      <td>Heikkinen, Miss. Laina</td>\n",
       "      <td>female</td>\n",
       "      <td>26.0</td>\n",
       "      <td>0</td>\n",
       "      <td>0</td>\n",
       "      <td>STON/O2. 3101282</td>\n",
       "      <td>7.9250</td>\n",
       "      <td>NaN</td>\n",
       "      <td>S</td>\n",
       "    </tr>\n",
       "    <tr>\n",
       "      <th>3</th>\n",
       "      <td>4</td>\n",
       "      <td>1</td>\n",
       "      <td>1</td>\n",
       "      <td>Futrelle, Mrs. Jacques Heath (Lily May Peel)</td>\n",
       "      <td>female</td>\n",
       "      <td>35.0</td>\n",
       "      <td>1</td>\n",
       "      <td>0</td>\n",
       "      <td>113803</td>\n",
       "      <td>53.1000</td>\n",
       "      <td>C123</td>\n",
       "      <td>S</td>\n",
       "    </tr>\n",
       "    <tr>\n",
       "      <th>4</th>\n",
       "      <td>5</td>\n",
       "      <td>0</td>\n",
       "      <td>3</td>\n",
       "      <td>Allen, Mr. William Henry</td>\n",
       "      <td>male</td>\n",
       "      <td>35.0</td>\n",
       "      <td>0</td>\n",
       "      <td>0</td>\n",
       "      <td>373450</td>\n",
       "      <td>8.0500</td>\n",
       "      <td>NaN</td>\n",
       "      <td>S</td>\n",
       "    </tr>\n",
       "  </tbody>\n",
       "</table>\n",
       "</div>"
      ],
      "text/plain": [
       "   PassengerId  Survived  Pclass  \\\n",
       "0            1         0       3   \n",
       "1            2         1       1   \n",
       "2            3         1       3   \n",
       "3            4         1       1   \n",
       "4            5         0       3   \n",
       "\n",
       "                                                Name     Sex   Age  SibSp  \\\n",
       "0                            Braund, Mr. Owen Harris    male  22.0      1   \n",
       "1  Cumings, Mrs. John Bradley (Florence Briggs Th...  female  38.0      1   \n",
       "2                             Heikkinen, Miss. Laina  female  26.0      0   \n",
       "3       Futrelle, Mrs. Jacques Heath (Lily May Peel)  female  35.0      1   \n",
       "4                           Allen, Mr. William Henry    male  35.0      0   \n",
       "\n",
       "   Parch            Ticket     Fare Cabin Embarked  \n",
       "0      0         A/5 21171   7.2500   NaN        S  \n",
       "1      0          PC 17599  71.2833   C85        C  \n",
       "2      0  STON/O2. 3101282   7.9250   NaN        S  \n",
       "3      0            113803  53.1000  C123        S  \n",
       "4      0            373450   8.0500   NaN        S  "
      ]
     },
     "execution_count": 17,
     "metadata": {},
     "output_type": "execute_result"
    }
   ],
   "source": [
    "# データの中身を確認\n",
    "# head(n):最初のn行を表示\n",
    "# NaNは欠損値\n",
    "train.head()"
   ]
  },
  {
   "cell_type": "code",
   "execution_count": 18,
   "id": "78706e36",
   "metadata": {},
   "outputs": [
    {
     "data": {
      "text/html": [
       "<div>\n",
       "<style scoped>\n",
       "    .dataframe tbody tr th:only-of-type {\n",
       "        vertical-align: middle;\n",
       "    }\n",
       "\n",
       "    .dataframe tbody tr th {\n",
       "        vertical-align: top;\n",
       "    }\n",
       "\n",
       "    .dataframe thead th {\n",
       "        text-align: right;\n",
       "    }\n",
       "</style>\n",
       "<table border=\"1\" class=\"dataframe\">\n",
       "  <thead>\n",
       "    <tr style=\"text-align: right;\">\n",
       "      <th></th>\n",
       "      <th>PassengerId</th>\n",
       "      <th>Survived</th>\n",
       "      <th>Pclass</th>\n",
       "      <th>Name</th>\n",
       "      <th>Sex</th>\n",
       "      <th>Age</th>\n",
       "      <th>SibSp</th>\n",
       "      <th>Parch</th>\n",
       "      <th>Ticket</th>\n",
       "      <th>Fare</th>\n",
       "      <th>Cabin</th>\n",
       "      <th>Embarked</th>\n",
       "    </tr>\n",
       "  </thead>\n",
       "  <tbody>\n",
       "    <tr>\n",
       "      <th>886</th>\n",
       "      <td>887</td>\n",
       "      <td>0</td>\n",
       "      <td>2</td>\n",
       "      <td>Montvila, Rev. Juozas</td>\n",
       "      <td>male</td>\n",
       "      <td>27.0</td>\n",
       "      <td>0</td>\n",
       "      <td>0</td>\n",
       "      <td>211536</td>\n",
       "      <td>13.00</td>\n",
       "      <td>NaN</td>\n",
       "      <td>S</td>\n",
       "    </tr>\n",
       "    <tr>\n",
       "      <th>887</th>\n",
       "      <td>888</td>\n",
       "      <td>1</td>\n",
       "      <td>1</td>\n",
       "      <td>Graham, Miss. Margaret Edith</td>\n",
       "      <td>female</td>\n",
       "      <td>19.0</td>\n",
       "      <td>0</td>\n",
       "      <td>0</td>\n",
       "      <td>112053</td>\n",
       "      <td>30.00</td>\n",
       "      <td>B42</td>\n",
       "      <td>S</td>\n",
       "    </tr>\n",
       "    <tr>\n",
       "      <th>888</th>\n",
       "      <td>889</td>\n",
       "      <td>0</td>\n",
       "      <td>3</td>\n",
       "      <td>Johnston, Miss. Catherine Helen \"Carrie\"</td>\n",
       "      <td>female</td>\n",
       "      <td>NaN</td>\n",
       "      <td>1</td>\n",
       "      <td>2</td>\n",
       "      <td>W./C. 6607</td>\n",
       "      <td>23.45</td>\n",
       "      <td>NaN</td>\n",
       "      <td>S</td>\n",
       "    </tr>\n",
       "    <tr>\n",
       "      <th>889</th>\n",
       "      <td>890</td>\n",
       "      <td>1</td>\n",
       "      <td>1</td>\n",
       "      <td>Behr, Mr. Karl Howell</td>\n",
       "      <td>male</td>\n",
       "      <td>26.0</td>\n",
       "      <td>0</td>\n",
       "      <td>0</td>\n",
       "      <td>111369</td>\n",
       "      <td>30.00</td>\n",
       "      <td>C148</td>\n",
       "      <td>C</td>\n",
       "    </tr>\n",
       "    <tr>\n",
       "      <th>890</th>\n",
       "      <td>891</td>\n",
       "      <td>0</td>\n",
       "      <td>3</td>\n",
       "      <td>Dooley, Mr. Patrick</td>\n",
       "      <td>male</td>\n",
       "      <td>32.0</td>\n",
       "      <td>0</td>\n",
       "      <td>0</td>\n",
       "      <td>370376</td>\n",
       "      <td>7.75</td>\n",
       "      <td>NaN</td>\n",
       "      <td>Q</td>\n",
       "    </tr>\n",
       "  </tbody>\n",
       "</table>\n",
       "</div>"
      ],
      "text/plain": [
       "     PassengerId  Survived  Pclass                                      Name  \\\n",
       "886          887         0       2                     Montvila, Rev. Juozas   \n",
       "887          888         1       1              Graham, Miss. Margaret Edith   \n",
       "888          889         0       3  Johnston, Miss. Catherine Helen \"Carrie\"   \n",
       "889          890         1       1                     Behr, Mr. Karl Howell   \n",
       "890          891         0       3                       Dooley, Mr. Patrick   \n",
       "\n",
       "        Sex   Age  SibSp  Parch      Ticket   Fare Cabin Embarked  \n",
       "886    male  27.0      0      0      211536  13.00   NaN        S  \n",
       "887  female  19.0      0      0      112053  30.00   B42        S  \n",
       "888  female   NaN      1      2  W./C. 6607  23.45   NaN        S  \n",
       "889    male  26.0      0      0      111369  30.00  C148        C  \n",
       "890    male  32.0      0      0      370376   7.75   NaN        Q  "
      ]
     },
     "execution_count": 18,
     "metadata": {},
     "output_type": "execute_result"
    }
   ],
   "source": [
    "# tail(n):最後のn行を表示\n",
    "train.tail()\n",
    "# ぱっと見で気になること：名前の情報は必要？不要？"
   ]
  },
  {
   "cell_type": "code",
   "execution_count": 19,
   "id": "41e4a4c5",
   "metadata": {},
   "outputs": [
    {
     "data": {
      "text/plain": [
       "'データの可視化と前処理の方針決定'"
      ]
     },
     "execution_count": 19,
     "metadata": {},
     "output_type": "execute_result"
    }
   ],
   "source": [
    "\"\"\"データの可視化と前処理の方針決定\"\"\""
   ]
  },
  {
   "cell_type": "code",
   "execution_count": 20,
   "id": "7027faf7",
   "metadata": {},
   "outputs": [
    {
     "data": {
      "text/plain": [
       "'\\nこれからのデータ確認の流れ\\n欠損値の確認\\n外れ値の確認\\n相関の確認\\n目的変数とその他の列との関係性を個別に確認\\n'"
      ]
     },
     "execution_count": 20,
     "metadata": {},
     "output_type": "execute_result"
    }
   ],
   "source": [
    "\"\"\"\n",
    "これからのデータ確認の流れ\n",
    "欠損値の確認\n",
    "外れ値の確認\n",
    "相関の確認\n",
    "目的変数とその他の列との関係性を個別に確認\n",
    "\"\"\""
   ]
  },
  {
   "cell_type": "code",
   "execution_count": 21,
   "id": "38d8bb16",
   "metadata": {},
   "outputs": [
    {
     "data": {
      "text/plain": [
       "PassengerId      0\n",
       "Survived         0\n",
       "Pclass           0\n",
       "Name             0\n",
       "Sex              0\n",
       "Age            177\n",
       "SibSp            0\n",
       "Parch            0\n",
       "Ticket           0\n",
       "Fare             0\n",
       "Cabin          687\n",
       "Embarked         2\n",
       "dtype: int64"
      ]
     },
     "execution_count": 21,
     "metadata": {},
     "output_type": "execute_result"
    }
   ],
   "source": [
    "\"\"\"\n",
    "欠損値の確認\n",
    "・欠損値がある場合には「置き換え処理」が必要\n",
    "・trainデータの欠損値の数を表示したい、どうすれば？\n",
    "\"\"\"\n",
    "# カラムごとに含まれている欠損値の数を表示\n",
    "train.isnull().sum()"
   ]
  },
  {
   "cell_type": "code",
   "execution_count": 24,
   "id": "66fc38a7",
   "metadata": {},
   "outputs": [
    {
     "data": {
      "text/plain": [
       "PassengerId    891\n",
       "Survived       891\n",
       "Pclass         891\n",
       "Name           891\n",
       "Sex            891\n",
       "Age            714\n",
       "SibSp          891\n",
       "Parch          891\n",
       "Ticket         891\n",
       "Fare           891\n",
       "Cabin          204\n",
       "Embarked       889\n",
       "dtype: int64"
      ]
     },
     "execution_count": 24,
     "metadata": {},
     "output_type": "execute_result"
    }
   ],
   "source": [
    "# 補足\n",
    "# notnull()で欠損値ではない数を確認\n",
    "train.notnull().sum()"
   ]
  },
  {
   "cell_type": "code",
   "execution_count": 31,
   "id": "957d983c",
   "metadata": {},
   "outputs": [
    {
     "data": {
      "text/plain": [
       "<Axes: >"
      ]
     },
     "execution_count": 31,
     "metadata": {},
     "output_type": "execute_result"
    },
    {
     "data": {
      "image/png": "[encoded data removed]",
      "text/plain": [
       "<Figure size 640x480 with 1 Axes>"
      ]
     },
     "metadata": {},
     "output_type": "display_data"
    }
   ],
   "source": [
    "\"\"\"\n",
    "外れ値の確認\n",
    "・量的変数（例：年齢）は外れ値がないか確認する必要がある\n",
    "・外れ値を検出した場合、削除や置き換えをする処理が必要\n",
    "・データの外れ値の確認はどのように行うか？\n",
    "    外れ値として省くべき値かどうかの判別も必要\n",
    "→箱ひげ図による可視化\n",
    "\"\"\"\n",
    "# 外れ値の確認\n",
    "# 箱ひげ図による量的変数\"Age\"の可視化\n",
    "sns.boxplot(train[\"Age\"])\n",
    "# plt.show()はなくても描画される\n",
    "# 普通にあり得る値を外れ値として省くのは危険？"
   ]
  },
  {
   "cell_type": "code",
   "execution_count": 32,
   "id": "f6883895",
   "metadata": {},
   "outputs": [
    {
     "data": {
      "text/plain": [
       "<Axes: >"
      ]
     },
     "execution_count": 32,
     "metadata": {},
     "output_type": "execute_result"
    },
    {
     "data": {
      "image/png": "[encoded data removed]",
      "text/plain": [
       "<Figure size 640x480 with 1 Axes>"
      ]
     },
     "metadata": {},
     "output_type": "display_data"
    }
   ],
   "source": [
    "# 箱ひげ図による量的変数\"Fare\"の可視化\n",
    "sns.boxplot(train[\"Fare\"])\n",
    "# 普通にあり得る値を外れ値として省くのは危険？"
   ]
  },
  {
   "cell_type": "code",
   "execution_count": 47,
   "id": "3e201869",
   "metadata": {},
   "outputs": [
    {
     "name": "stderr",
     "output_type": "stream",
     "text": [
      "C:\\Users\\space\\AppData\\Local\\Temp\\ipykernel_9608\\1848248046.py:2: UserWarning: \n",
      "\n",
      "`distplot` is a deprecated function and will be removed in seaborn v0.14.0.\n",
      "\n",
      "Please adapt your code to use either `displot` (a figure-level function with\n",
      "similar flexibility) or `histplot` (an axes-level function for histograms).\n",
      "\n",
      "For a guide to updating your code to use the new functions, please see\n",
      "https://gist.github.com/mwaskom/de44147ed2974457ad6372750bbe5751\n",
      "\n",
      "  sns.distplot(train[\"Age\"], bins = 16)\n"
     ]
    },
    {
     "data": {
      "text/plain": [
       "<Axes: xlabel='Age', ylabel='Density'>"
      ]
     },
     "execution_count": 47,
     "metadata": {},
     "output_type": "execute_result"
    },
    {
     "data": {
      "image/png": "[encoded data removed]",
      "text/plain": [
       "<Figure size 640x480 with 1 Axes>"
      ]
     },
     "metadata": {},
     "output_type": "display_data"
    }
   ],
   "source": [
    "#「年齢」列を深堀　分布の確認\n",
    "sns.distplot(train[\"Age\"], bins = 16)\n",
    "# sns.distplot(train.Age, bins = 16)でも可"
   ]
  },
  {
   "cell_type": "code",
   "execution_count": 42,
   "id": "47ba5863",
   "metadata": {},
   "outputs": [
    {
     "data": {
      "text/plain": [
       "0.42     1\n",
       "0.67     1\n",
       "66.00    1\n",
       "24.50    1\n",
       "80.00    1\n",
       "20.50    1\n",
       "53.00    1\n",
       "14.50    1\n",
       "70.50    1\n",
       "12.00    1\n",
       "36.50    1\n",
       "55.50    1\n",
       "0.92     1\n",
       "23.50    1\n",
       "74.00    1\n",
       "Name: Age, dtype: int64"
      ]
     },
     "execution_count": 42,
     "metadata": {},
     "output_type": "execute_result"
    }
   ],
   "source": [
    "train[\"Age\"].value_counts().tail(15)\n",
    "# 一人しかいない年齢が複数存在\n",
    "# ０．５歳や、１歳ごとの年齢に意味はないと思われるため、今回はグルーピングという処理を実施"
   ]
  },
  {
   "cell_type": "code",
   "execution_count": 43,
   "id": "a54d9489",
   "metadata": {},
   "outputs": [
    {
     "data": {
      "text/plain": [
       "'\\n演習\\u3000「運賃」列を深堀\\n問題１\\u3000「運賃」列の分布を可視化せよ\\n問題２\\u3000「運賃」列に存在する各要素の個数を可視化せよ\\n'"
      ]
     },
     "execution_count": 43,
     "metadata": {},
     "output_type": "execute_result"
    }
   ],
   "source": [
    "\"\"\"\n",
    "演習　「運賃」列を深堀\n",
    "問題１　「運賃」列の分布を可視化せよ\n",
    "問題２　「運賃」列に存在する各要素の個数を可視化せよ\n",
    "\"\"\""
   ]
  },
  {
   "cell_type": "code",
   "execution_count": 51,
   "id": "c53b3b67",
   "metadata": {},
   "outputs": [
    {
     "name": "stderr",
     "output_type": "stream",
     "text": [
      "C:\\Users\\space\\AppData\\Local\\Temp\\ipykernel_9608\\3052020742.py:2: UserWarning: \n",
      "\n",
      "`distplot` is a deprecated function and will be removed in seaborn v0.14.0.\n",
      "\n",
      "Please adapt your code to use either `displot` (a figure-level function with\n",
      "similar flexibility) or `histplot` (an axes-level function for histograms).\n",
      "\n",
      "For a guide to updating your code to use the new functions, please see\n",
      "https://gist.github.com/mwaskom/de44147ed2974457ad6372750bbe5751\n",
      "\n",
      "  sns.distplot(train[\"Fare\"], bins = 10)\n"
     ]
    },
    {
     "data": {
      "text/plain": [
       "<Axes: xlabel='Fare', ylabel='Density'>"
      ]
     },
     "execution_count": 51,
     "metadata": {},
     "output_type": "execute_result"
    },
    {
     "data": {
      "image/png": "[encoded data removed]",
      "text/plain": [
       "<Figure size 640x480 with 1 Axes>"
      ]
     },
     "metadata": {},
     "output_type": "display_data"
    }
   ],
   "source": [
    "# 問題１\n",
    "sns.distplot(train[\"Fare\"], bins = 10)\n",
    "# 左側によったロングテールな分布だとわかる"
   ]
  },
  {
   "cell_type": "code",
   "execution_count": 52,
   "id": "b3035401",
   "metadata": {},
   "outputs": [
    {
     "data": {
      "text/plain": [
       "6.8583      1\n",
       "8.0292      1\n",
       "9.4750      1\n",
       "12.0000     1\n",
       "7.7292      1\n",
       "9.2167      1\n",
       "4.0125      1\n",
       "211.5000    1\n",
       "55.4417     1\n",
       "75.2500     1\n",
       "35.0000     1\n",
       "28.5000     1\n",
       "6.2375      1\n",
       "14.0000     1\n",
       "10.5167     1\n",
       "Name: Fare, dtype: int64"
      ]
     },
     "execution_count": 52,
     "metadata": {},
     "output_type": "execute_result"
    }
   ],
   "source": [
    "# 問題２\n",
    "train[\"Fare\"].value_counts().tail(15)\n",
    "# 一個しかないものが多い→グループ化がよさそう"
   ]
  },
  {
   "cell_type": "code",
   "execution_count": 59,
   "id": "edb6e1c8",
   "metadata": {},
   "outputs": [
    {
     "name": "stderr",
     "output_type": "stream",
     "text": [
      "C:\\Users\\space\\AppData\\Local\\Temp\\ipykernel_9608\\2276029538.py:4: FutureWarning: The default value of numeric_only in DataFrame.corr is deprecated. In a future version, it will default to False. Select only valid columns or specify the value of numeric_only to silence this warning.\n",
      "  sns.heatmap(train.corr(), cmap = \"summer\", annot = True)\n"
     ]
    },
    {
     "data": {
      "text/plain": [
       "<Axes: >"
      ]
     },
     "execution_count": 59,
     "metadata": {},
     "output_type": "execute_result"
    },
    {
     "data": {
      "image/png": "[encoded data removed]",
      "text/plain": [
       "<Figure size 640x480 with 2 Axes>"
      ]
     },
     "metadata": {},
     "output_type": "display_data"
    }
   ],
   "source": [
    "# 目的変数「Survived」とほかの列との関係性を可視化\n",
    "# Survivedとの相関があまりに小さい量的変数は不要なデータである可能性\n",
    "# seabornのheatmapを用いて量的変数の相関を可視化　-1～1で0に近いほど相関が小さい\n",
    "sns.heatmap(train.corr(), cmap = \"summer\", annot = True)\n",
    "# annot=Trueでヒートマップの中に値を追加\n",
    "# Pclassは若干負の相関？　Fareは若干正の相関？"
   ]
  },
  {
   "cell_type": "code",
   "execution_count": 61,
   "id": "216b7b34",
   "metadata": {},
   "outputs": [
    {
     "data": {
      "text/plain": [
       "'\\nPassengerId（乗客の通し番号）は小さすぎるか？\\n実際、相関だけで判断するのは難しい\\n特徴毎に個別調査する必要がある\\n\\n例えば、x軸が説明変数、y軸が目的変数の曲線が放物線を描くとき、\\n相関性はありそうだが、相関係数は0になる\\n'"
      ]
     },
     "execution_count": 61,
     "metadata": {},
     "output_type": "execute_result"
    }
   ],
   "source": [
    "\"\"\"\n",
    "PassengerId（乗客の通し番号）は小さすぎるか？\n",
    "実際、相関だけで判断するのは難しい\n",
    "特徴毎に個別調査する必要がある\n",
    "\n",
    "例えば、x軸が説明変数、y軸が目的変数の曲線が放物線を描くとき、\n",
    "相関性はありそうだが、相関係数は0になる\n",
    "\"\"\""
   ]
  },
  {
   "cell_type": "code",
   "execution_count": 60,
   "id": "a74dd3b9",
   "metadata": {},
   "outputs": [
    {
     "data": {
      "text/plain": [
       "'\\n一旦ここで調査結果をまとめる\\n・欠損値→あり\\n・外れ値→なし\\n    箱ひげ図的には「外れ」だが、値そのものは普通にありそう\\n・「年齢」・「運賃」→グルーピングの処理が必要\\n・相関関係→相関が非常に小さいものあり、不要なデータかどうか追加調査が必要\\n'"
      ]
     },
     "execution_count": 60,
     "metadata": {},
     "output_type": "execute_result"
    }
   ],
   "source": [
    "\"\"\"\n",
    "一旦ここで調査結果をまとめる\n",
    "・欠損値→あり\n",
    "・外れ値→なし\n",
    "    箱ひげ図的には「外れ」だが、値そのものは普通にありそう\n",
    "・「年齢」・「運賃」→グルーピングの処理が必要\n",
    "・相関関係→相関が非常に小さいものあり、不要なデータかどうか追加調査が必要\n",
    "\"\"\""
   ]
  },
  {
   "cell_type": "code",
   "execution_count": 62,
   "id": "cb5cd212",
   "metadata": {},
   "outputs": [
    {
     "data": {
      "text/plain": [
       "'\\n特徴を個別に調査する\\n実務では、重要そうなもの関係ありそうなものを優先して調査しましょう\\n仮説から分析の優先順位をつけていく\\n\\nPassengerId(乗客の通し番号)：関係なさそう→優先度を下げる\\nPclass(乗客の客室の等級)：\\n    高級な部屋は階層が高かったり、船の奥の方で逃げ遅れやすい可能性がありそう？\\n    等級が低いと騒がしい出口の近くで逃げやすそう？\\n'"
      ]
     },
     "execution_count": 62,
     "metadata": {},
     "output_type": "execute_result"
    }
   ],
   "source": [
    "\"\"\"\n",
    "特徴を個別に調査する\n",
    "実務では、重要そうなもの関係ありそうなものを優先して調査しましょう\n",
    "仮説から分析の優先順位をつけていく\n",
    "\n",
    "PassengerId(乗客の通し番号)：関係なさそう→優先度を下げる\n",
    "Pclass(乗客の客室の等級)：\n",
    "    高級な部屋は階層が高かったり、船の奥の方で逃げ遅れやすい可能性がありそう？\n",
    "    等級が低いと騒がしい出口の近くで逃げやすそう？\n",
    "\"\"\""
   ]
  },
  {
   "cell_type": "code",
   "execution_count": 76,
   "id": "92ed8b41",
   "metadata": {},
   "outputs": [
    {
     "data": {
      "text/plain": [
       "'\\n全体で見ると、女性のほうが生存している\\nこの結果から、女性のほうが生存しやすいと結論付けて良いか？\\n    まだ早い\\n    単に男性の乗客者数が多かっただけかも\\n'"
      ]
     },
     "execution_count": 76,
     "metadata": {},
     "output_type": "execute_result"
    },
    {
     "data": {
      "image/png": "[encoded data removed]",
      "text/plain": [
       "<Figure size 640x480 with 1 Axes>"
      ]
     },
     "metadata": {},
     "output_type": "display_data"
    }
   ],
   "source": [
    "# 「性別」列と「生存」列の関係\n",
    "# Pandasで学んだgroupby()を使う\n",
    "\n",
    "# 男女それぞれの生存者数を棒グラフ表示\n",
    "# trainデータの\"Survived\"列の和を性別ごとに求め、可視化する\n",
    "\n",
    "sum_survived = train.groupby([\"Sex\"])[\"Survived\"].sum() # (\"Sex\")のように、[]がなくても良かった\n",
    "# 解説のsns.barplot(sum_survived.keys(), sum_survived.values)ではエラーが出た、バージョンの違いによるものか？\n",
    "sns.barplot(x=sum_survived.index, y=sum_survived.values)\n",
    "\n",
    "\"\"\"\n",
    "全体で見ると、女性のほうが生存している\n",
    "この結果から、女性のほうが生存しやすいと結論付けて良いか？\n",
    "    まだ早い\n",
    "    単に男性の乗客者数が多かっただけかも\n",
    "\"\"\"\n"
   ]
  },
  {
   "cell_type": "code",
   "execution_count": 96,
   "id": "4684a9f7",
   "metadata": {},
   "outputs": [
    {
     "data": {
      "text/plain": [
       "'\\n何が言えるか？\\n女性の生存率が高そう\\n'"
      ]
     },
     "execution_count": 96,
     "metadata": {},
     "output_type": "execute_result"
    },
    {
     "data": {
      "image/png": "[encoded data removed]",
      "text/plain": [
       "<Figure size 640x480 with 1 Axes>"
      ]
     },
     "metadata": {},
     "output_type": "display_data"
    }
   ],
   "source": [
    "# trainのカラム\"Survived\"を\"Sex\"と\"Survived\"で集計し、棒グラフで表示\n",
    "\"\"\"\n",
    "なぜか、解説では二行目でエラーが出た\n",
    "バージョンによるものか？\n",
    "data_count = train.groupby([\"Sex\", \"Survived\"])[\"Survived\"].count()\n",
    "sns.barplot(x = data_count.index, y = data_count.values)\n",
    "仕方がないので、代わりにcountplot()を使った\n",
    "\"\"\"\n",
    "sns.countplot(data = train, x = \"Sex\", hue = \"Survived\")\n",
    "\"\"\"\n",
    "何が言えるか？\n",
    "女性の生存率が高そう\n",
    "\"\"\"\n"
   ]
  },
  {
   "cell_type": "code",
   "execution_count": 99,
   "id": "b07eb204",
   "metadata": {},
   "outputs": [
    {
     "data": {
      "text/plain": [
       "Sex\n",
       "female    0.742038\n",
       "male      0.188908\n",
       "Name: Survived, dtype: float64"
      ]
     },
     "execution_count": 99,
     "metadata": {},
     "output_type": "execute_result"
    }
   ],
   "source": [
    "# 男女それぞれの生存率を求める\n",
    "\"\"\"\n",
    "男女で生存率に大きな違いがある\n",
    "「性別」の情報は「生存」に関連がありそう\n",
    "\"\"\"\n",
    "train.groupby(\"Sex\")[\"Survived\"].mean()\n"
   ]
  },
  {
   "cell_type": "code",
   "execution_count": 100,
   "id": "12470791",
   "metadata": {},
   "outputs": [
    {
     "data": {
      "text/plain": [
       "'\\n演習\\u3000「乗船した港」列と「生存」列の関係\\n問題１\\u3000港ごとの生存者数/死亡者を調べよ\\n問題２\\u3000港ごとの生存者数/死亡者を可視化せよ\\n問題３\\u3000港ごとの生存率を計算せよ\\n'"
      ]
     },
     "execution_count": 100,
     "metadata": {},
     "output_type": "execute_result"
    }
   ],
   "source": [
    "\"\"\"\n",
    "演習　「乗船した港」列と「生存」列の関係\n",
    "問題１　港ごとの生存者数/死亡者を調べよ\n",
    "問題２　港ごとの生存者数/死亡者を可視化せよ\n",
    "問題３　港ごとの生存率を計算せよ\n",
    "\"\"\""
   ]
  },
  {
   "cell_type": "code",
   "execution_count": 118,
   "id": "61f06fae",
   "metadata": {},
   "outputs": [
    {
     "data": {
      "text/plain": [
       "Embarked  Survived\n",
       "C         0            75\n",
       "          1            93\n",
       "Q         0            47\n",
       "          1            30\n",
       "S         0           427\n",
       "          1           217\n",
       "Name: Survived, dtype: int64"
      ]
     },
     "execution_count": 118,
     "metadata": {},
     "output_type": "execute_result"
    }
   ],
   "source": [
    "# 問題１\n",
    "# Embarked：港、Survived = 1 で生存\n",
    "# 乗船した場所と生存率をクロス集計\n",
    "\"\"\"\n",
    "embarked_count = train.groupby(\"Embarked\")[\"Survived\"].value_counts()\n",
    "c = embarked_count[\"C\"][1]/embarked_count[\"C\"][0]\n",
    "q = embarked_count[\"Q\"][1]/embarked_count[\"Q\"][0]\n",
    "s = embarked_count[\"S\"][1]/embarked_count[\"S\"][0]\n",
    "print(embarked_count)\n",
    "print(c, q, s)\n",
    "自分の回答\n",
    "\n",
    "\"\"\"\n",
    "train.groupby([\"Embarked\", \"Survived\"])[\"Survived\"].count()"
   ]
  },
  {
   "cell_type": "code",
   "execution_count": 117,
   "id": "ac89b22b",
   "metadata": {},
   "outputs": [
    {
     "data": {
      "text/plain": [
       "<Axes: xlabel='Embarked', ylabel='count'>"
      ]
     },
     "execution_count": 117,
     "metadata": {},
     "output_type": "execute_result"
    },
    {
     "data": {
      "image/png": "[encoded data removed]",
      "text/plain": [
       "<Figure size 640x480 with 1 Axes>"
      ]
     },
     "metadata": {},
     "output_type": "display_data"
    }
   ],
   "source": [
    "# 問題２\n",
    "# 乗船した場所と生存率をクロス集計し、棒グラフで表示\n",
    "\"\"\"\n",
    "やはり解説通りにできない\n",
    "data_count = train.group([\"Embarked\", \"Survived\"])[\"Survived\"].count()\n",
    "sns.barplot(data_count.keys(), data_count.values)\n",
    "plt.show()\n",
    "\"\"\"\n",
    "sns.countplot(data = train, x = \"Embarked\", hue = \"Survived\")"
   ]
  },
  {
   "cell_type": "code",
   "execution_count": 122,
   "id": "f6768f04",
   "metadata": {},
   "outputs": [
    {
     "data": {
      "text/plain": [
       "Embarked\n",
       "C    0.553571\n",
       "Q    0.389610\n",
       "S    0.336957\n",
       "Name: Survived, dtype: float64"
      ]
     },
     "execution_count": 122,
     "metadata": {},
     "output_type": "execute_result"
    }
   ],
   "source": [
    "# 問題３\n",
    "# 港が同じもの同士でSurvivedの値を集計する　その平均は生存率を表す\n",
    "train.groupby(\"Embarked\")[\"Survived\"].mean()\n",
    "# 違いがないとは言えなさそう　Cが生存しやすそう"
   ]
  },
  {
   "cell_type": "code",
   "execution_count": 139,
   "id": "698027a3",
   "metadata": {},
   "outputs": [
    {
     "data": {
      "text/html": [
       "<div>\n",
       "<style scoped>\n",
       "    .dataframe tbody tr th:only-of-type {\n",
       "        vertical-align: middle;\n",
       "    }\n",
       "\n",
       "    .dataframe tbody tr th {\n",
       "        vertical-align: top;\n",
       "    }\n",
       "\n",
       "    .dataframe thead th {\n",
       "        text-align: right;\n",
       "    }\n",
       "</style>\n",
       "<table border=\"1\" class=\"dataframe\">\n",
       "  <thead>\n",
       "    <tr style=\"text-align: right;\">\n",
       "      <th></th>\n",
       "      <th>列名</th>\n",
       "      <th>理由</th>\n",
       "      <th>備考</th>\n",
       "    </tr>\n",
       "  </thead>\n",
       "  <tbody>\n",
       "    <tr>\n",
       "      <th>0</th>\n",
       "      <td>PassengerId</td>\n",
       "      <td>生存率との相関が非常に小さい</td>\n",
       "      <td>NaN</td>\n",
       "    </tr>\n",
       "    <tr>\n",
       "      <th>1</th>\n",
       "      <td>Name</td>\n",
       "      <td>氏名が生死に影響するとは考えにくい</td>\n",
       "      <td>ただし性別を示唆する敬称は有用な可能性</td>\n",
       "    </tr>\n",
       "    <tr>\n",
       "      <th>2</th>\n",
       "      <td>Ticket</td>\n",
       "      <td>規則性が分からない</td>\n",
       "      <td>NaN</td>\n",
       "    </tr>\n",
       "    <tr>\n",
       "      <th>3</th>\n",
       "      <td>Cabin</td>\n",
       "      <td>欠損値が多すぎる</td>\n",
       "      <td>NaN</td>\n",
       "    </tr>\n",
       "  </tbody>\n",
       "</table>\n",
       "</div>"
      ],
      "text/plain": [
       "            列名                 理由                   備考\n",
       "0  PassengerId     生存率との相関が非常に小さい                  NaN\n",
       "1         Name  氏名が生死に影響するとは考えにくい  ただし性別を示唆する敬称は有用な可能性\n",
       "2       Ticket          規則性が分からない                  NaN\n",
       "3        Cabin           欠損値が多すぎる                  NaN"
      ]
     },
     "execution_count": 139,
     "metadata": {},
     "output_type": "execute_result"
    }
   ],
   "source": [
    "# 不要そうなデータ\n",
    "# 以下のデータ列は、前処理で列ごと削除してよい可能性が高い\n",
    "# Nameだけ加工\n",
    "fuyousounadata = pd.DataFrame({\"列名\":[\"PassengerId\", \"Name\", \"Ticket\", \"Cabin\"],\n",
    "                 \"理由\":[\"生存率との相関が非常に小さい\", \"氏名が生死に影響するとは考えにくい\", \"規則性が分からない\", \"欠損値が多すぎる\"],\n",
    "                 \"備考\":[\"NaN\", \"ただし性別を示唆する敬称は有用な可能性\", \"NaN\", \"NaN\"]})\n",
    "fuyousounadata"
   ]
  },
  {
   "cell_type": "code",
   "execution_count": 140,
   "id": "19c31d68",
   "metadata": {},
   "outputs": [
    {
     "data": {
      "text/plain": [
       "'前処理の実施'"
      ]
     },
     "execution_count": 140,
     "metadata": {},
     "output_type": "execute_result"
    }
   ],
   "source": [
    "\"\"\"前処理の実施\"\"\""
   ]
  },
  {
   "cell_type": "code",
   "execution_count": 161,
   "id": "45b2e176",
   "metadata": {},
   "outputs": [
    {
     "data": {
      "text/plain": [
       "'\\n前処理項目\\n・可視化によって得た情報をもとに、必要な前処理を実施\\n・今回の前処理項目\\n    ・データ加工して意味のある特徴を作る\\n        今回は欠損値を埋める前にこの処理を実施。理由は欠損値処理のところで\\n    ・欠損値処理\\n    ・数値データのカテゴライズ化\\u3000年齢をグループ分け\\n    ・不要データの削除\\n    ・文字列データの数値への置き換え\\n    \\n    trainとtestの同じ項目の列でどちらかにしか存在しない文字列が\\n    ないようにうまく置き換えるべき\\n'"
      ]
     },
     "execution_count": 161,
     "metadata": {},
     "output_type": "execute_result"
    }
   ],
   "source": [
    "\"\"\"\n",
    "前処理項目\n",
    "・可視化によって得た情報をもとに、必要な前処理を実施\n",
    "・今回の前処理項目\n",
    "    ・データ加工して意味のある特徴を作る\n",
    "        今回は欠損値を埋める前にこの処理を実施。理由は欠損値処理のところで\n",
    "    ・欠損値処理\n",
    "    ・数値データのカテゴライズ化　年齢をグループ分け\n",
    "    ・不要データの削除\n",
    "    ・文字列データの数値への置き換え\n",
    "    \n",
    "    trainとtestの同じ項目の列でどちらかにしか存在しない文字列が\n",
    "    ないようにうまく置き換えるべき\n",
    "\"\"\""
   ]
  },
  {
   "cell_type": "code",
   "execution_count": 144,
   "id": "3bf46e92",
   "metadata": {},
   "outputs": [
    {
     "data": {
      "text/plain": [
       "'\\nNameの取り扱い\\n氏名そのものが生死に影響するとは考えにくい\\n不必要なデータは排除・・・してよい？（これまでの考察を思い出して！）\\n    Braund, Mr. Owen Harris\\n今回のNameデータには敬称がついている\\n    ・敬称は年齢や性別を含んだ情報→これは生死と関係ありそう？\\n    ・適切な形で敬称の情報を抜き出すことができたら、特徴として使えそう？！\\n敬称を取り出す関数を作成し、Name列を加工しよう！\\n'"
      ]
     },
     "execution_count": 144,
     "metadata": {},
     "output_type": "execute_result"
    }
   ],
   "source": [
    "'''\n",
    "Nameの取り扱い\n",
    "氏名そのものが生死に影響するとは考えにくい\n",
    "不必要なデータは排除・・・してよい？（これまでの考察を思い出して！）\n",
    "    Braund, Mr. Owen Harris\n",
    "今回のNameデータには敬称がついている\n",
    "    ・敬称は年齢や性別を含んだ情報→これは生死と関係ありそう？\n",
    "    ・適切な形で敬称の情報を抜き出すことができたら、特徴として使えそう？！\n",
    "敬称を取り出す関数を作成し、Name列を加工しよう！\n",
    "'''"
   ]
  },
  {
   "cell_type": "code",
   "execution_count": 148,
   "id": "0f3d143b",
   "metadata": {},
   "outputs": [],
   "source": [
    "# Nameの取り扱い：正規表現を用いた敬称の抜き出し\n",
    "# これから行う処理の大枠\n",
    "\n",
    "# 処理①\n",
    "# 敬称を抽出する関数を定義\n",
    "\n",
    "# reは正規表現(regular expression)の意味\n",
    "import re\n",
    "def get_title(name):\n",
    "    # reという標準ライブラリのsearchモジュールを使用\n",
    "    # 正規表現を用いて抽出するパターンを定義(英語大文字、小文字の繰り返し)\n",
    "    # \".\"が含まれていれば、敬称が含まれているとわかる\n",
    "    # title_searchに敬称(\".\")が含まれている名前と、その敬称の部分だけという二つの出力が得られる\n",
    "    title_search = re.search(\"([A-Za-z]+)\\.\",name)\n",
    "    if title_search:\n",
    "        # .group(1)で敬称の部分だけ、.group(0)で名前全文を返す\n",
    "        return title_search.group(1)\n",
    "    return \"\"\n",
    "\n",
    "# 処理②\n",
    "# Nameに対してget_titleを適用、apply()を用いる\n",
    "# \"Title\"という列を作り、その中に全員分の敬称を収録\n",
    "\n",
    "# data=[train,test]としているので、for de in dataでもいい\n",
    "for df in [train,test]:\n",
    "    # Title列にapply()で指定されたName列に関数を適用し、適用結果をTitle列に返す\n",
    "    df[\"Title\"] = df[\"Name\"].apply(get_title)"
   ]
  },
  {
   "cell_type": "code",
   "execution_count": 149,
   "id": "86958149",
   "metadata": {},
   "outputs": [
    {
     "data": {
      "text/plain": [
       "Mr          517\n",
       "Miss        182\n",
       "Mrs         125\n",
       "Master       40\n",
       "Dr            7\n",
       "Rev           6\n",
       "Mlle          2\n",
       "Major         2\n",
       "Col           2\n",
       "Countess      1\n",
       "Capt          1\n",
       "Ms            1\n",
       "Sir           1\n",
       "Lady          1\n",
       "Mme           1\n",
       "Don           1\n",
       "Jonkheer      1\n",
       "Name: Title, dtype: int64"
      ]
     },
     "execution_count": 149,
     "metadata": {},
     "output_type": "execute_result"
    }
   ],
   "source": [
    "# trainのTitle列の各要素の個数を表示\n",
    "train[\"Title\"].value_counts()"
   ]
  },
  {
   "cell_type": "code",
   "execution_count": 150,
   "id": "66398ed1",
   "metadata": {},
   "outputs": [
    {
     "data": {
      "text/plain": [
       "Mr        240\n",
       "Miss       78\n",
       "Mrs        72\n",
       "Master     21\n",
       "Col         2\n",
       "Rev         2\n",
       "Ms          1\n",
       "Dr          1\n",
       "Dona        1\n",
       "Name: Title, dtype: int64"
      ]
     },
     "execution_count": 150,
     "metadata": {},
     "output_type": "execute_result"
    }
   ],
   "source": [
    "# testのTitle列の各要素の個数を表示\n",
    "test[\"Title\"].value_counts()"
   ]
  },
  {
   "cell_type": "code",
   "execution_count": 157,
   "id": "fdb9e6da",
   "metadata": {},
   "outputs": [],
   "source": [
    "\"\"\"\n",
    "敬称を取り出したは良いものの、実は問題がある（前ページを見て考えよう）\n",
    "\n",
    "サンプル数の少ないラベルはその統計的特徴を取り出しにくい\n",
    "件数が少ない敬称は置き換えてまとめてしまおう（Donaはtestにしかない）\n",
    "\"\"\"\n",
    "\n",
    "# replace(置き換えたい値, 置き換え後の値)\n",
    "for df in data:\n",
    "    \n",
    "    # \"Mile\",\"Ms\",\"Mme\"は女性の敬称なので、Missに置き換え\n",
    "    df[\"Title\"] = df[\"Title\"].replace([\"Mlle\",\"Ms\",\"Mme\"], \"Miss\")\n",
    "    \n",
    "    # それ以外はOthersへ\n",
    "    df[\"Title\"] = df[\"Title\"].replace([\"Lady\", \"Countess\", \"Capt\", \"Col\", \"Dr\", \"Don\", \"Major\", \"Rev\", \"Sir\", \"Jonkheer\", \"Dona\"], \"Others\")"
   ]
  },
  {
   "cell_type": "code",
   "execution_count": 158,
   "id": "91273127",
   "metadata": {},
   "outputs": [
    {
     "data": {
      "text/plain": [
       "Mr        517\n",
       "Miss      186\n",
       "Mrs       125\n",
       "Master     40\n",
       "Others     23\n",
       "Name: Title, dtype: int64"
      ]
     },
     "execution_count": 158,
     "metadata": {},
     "output_type": "execute_result"
    }
   ],
   "source": [
    "# 置き換え結果の確認\n",
    "train.Title.value_counts()"
   ]
  },
  {
   "cell_type": "code",
   "execution_count": 159,
   "id": "e9f9afe5",
   "metadata": {},
   "outputs": [
    {
     "data": {
      "text/plain": [
       "Mr        240\n",
       "Miss       79\n",
       "Mrs        72\n",
       "Master     21\n",
       "Others      6\n",
       "Name: Title, dtype: int64"
      ]
     },
     "execution_count": 159,
     "metadata": {},
     "output_type": "execute_result"
    }
   ],
   "source": [
    "# 置き換え結果の確認\n",
    "test.Title.value_counts()"
   ]
  },
  {
   "cell_type": "code",
   "execution_count": 162,
   "id": "b8fcf7e1",
   "metadata": {},
   "outputs": [
    {
     "data": {
      "text/plain": [
       "'欠損値処理'"
      ]
     },
     "execution_count": 162,
     "metadata": {},
     "output_type": "execute_result"
    }
   ],
   "source": [
    "\"\"\"\n",
    "欠損値処理\n",
    "欠損しているデータ列\n",
    "・trainデータセット\n",
    "    ・Embarked\n",
    "    ・Age\n",
    "    ・Cabin\n",
    "・testデータセット\n",
    "    ・Fare\n",
    "    ・Age\n",
    "    ・Cabin\n",
    "\"\"\""
   ]
  },
  {
   "cell_type": "code",
   "execution_count": 163,
   "id": "1231b6bc",
   "metadata": {},
   "outputs": [
    {
     "data": {
      "text/plain": [
       "S    644\n",
       "C    168\n",
       "Q     77\n",
       "Name: Embarked, dtype: int64"
      ]
     },
     "execution_count": 163,
     "metadata": {},
     "output_type": "execute_result"
    }
   ],
   "source": [
    "# 欠損値処理：Embarked\n",
    "\n",
    "# 欠けているのはtrainデータの２名分だけ\n",
    "# Embarkedは「S,C,Q」の３つの値をとる\n",
    "train.Embarked.value_counts()"
   ]
  },
  {
   "cell_type": "code",
   "execution_count": 165,
   "id": "75ac0d94",
   "metadata": {},
   "outputs": [],
   "source": [
    "# 欠けているのは２件程度なので、１番確立が高そうな\"S\"で補完しよう\n",
    "train.Embarked=train.Embarked.fillna(\"S\")"
   ]
  },
  {
   "cell_type": "code",
   "execution_count": 167,
   "id": "07b4836f",
   "metadata": {},
   "outputs": [
    {
     "data": {
      "text/plain": [
       "29.69911764705882"
      ]
     },
     "execution_count": 167,
     "metadata": {},
     "output_type": "execute_result"
    }
   ],
   "source": [
    "# 欠損値処理：Age\n",
    "\n",
    "\"\"\"\n",
    "どのように埋めるのが良いだろうか？\n",
    "素朴なアイデア：「Age」列の平均値で埋める\n",
    "実はちょっと雑。なぜ？\n",
    "\n",
    "Ageの平均値：全乗客の年齢の平均\n",
    "    男性・女性といった性別の情報などを無視する\n",
    "    各性別での平均年齢は異なる\n",
    "\"\"\"\n",
    "# 全乗客の平均年齢\n",
    "train[\"Age\"].mean()"
   ]
  },
  {
   "cell_type": "code",
   "execution_count": 168,
   "id": "11d0840a",
   "metadata": {},
   "outputs": [
    {
     "data": {
      "text/plain": [
       "Sex\n",
       "female    27.915709\n",
       "male      30.726645\n",
       "Name: Age, dtype: float64"
      ]
     },
     "execution_count": 168,
     "metadata": {},
     "output_type": "execute_result"
    }
   ],
   "source": [
    "# 性別ごとの平均年齢\n",
    "train.groupby(\"Sex\")[\"Age\"].mean()"
   ]
  },
  {
   "cell_type": "code",
   "execution_count": 170,
   "id": "097b7704",
   "metadata": {},
   "outputs": [
    {
     "data": {
      "text/plain": [
       "Title\n",
       "Master     4.574167\n",
       "Miss      21.860000\n",
       "Mr        32.368090\n",
       "Mrs       35.898148\n",
       "Others    45.545455\n",
       "Name: Age, dtype: float64"
      ]
     },
     "execution_count": 170,
     "metadata": {},
     "output_type": "execute_result"
    }
   ],
   "source": [
    "\"\"\"\n",
    "適切な集計の下、なるべく精度高く年齢の欠損を埋めたい\n",
    "今回最もよさそうな集計条件は？　実は性別ではない！\n",
    "\n",
    "敬称「Title」\n",
    "    性別の情報だけでなく年齢の情報も含む！\n",
    "\"\"\"\n",
    "# Titleごとの平均年齢\n",
    "train.groupby(\"Title\")[\"Age\"].mean()"
   ]
  },
  {
   "cell_type": "code",
   "execution_count": 172,
   "id": "9951608d",
   "metadata": {},
   "outputs": [],
   "source": [
    "\"\"\"\n",
    "trainとtestに対して以下の処理を行う\n",
    "①「敬称」列で集計して、敬称ごとに年齢の平均を出す\n",
    "②敬称ごとに欠損値の穴埋め処理を行う\n",
    "\"\"\"\n",
    "\n",
    "for df in data:\n",
    "    mean = df.groupby(\"Title\")[\"Age\"].mean() # ①\n",
    "    for title in mean.keys():\n",
    "        df.loc[(df.Age.isnull())&(df.Title==title),\"Age\"] = mean[title] # ②"
   ]
  },
  {
   "cell_type": "code",
   "execution_count": 173,
   "id": "b2916e30",
   "metadata": {},
   "outputs": [],
   "source": [
    "\"\"\"\n",
    "欠損値処理：Fare\n",
    "\n",
    "・testデータの１か所だけFareの情報が抜けている\n",
    "・高々１か所だけなので、無難に中央値で埋めてしまえばOK\n",
    "\"\"\"\n",
    "# testのFareを埋める\n",
    "test.Fare=test.Fare.fillna(test.Fare.median())"
   ]
  },
  {
   "cell_type": "code",
   "execution_count": 174,
   "id": "a29673cf",
   "metadata": {},
   "outputs": [
    {
     "data": {
      "text/plain": [
       "'\\n欠損値処理：Cabin\\n\\n・大半が欠損値\\n・生死の分類にもあまり役立たないように思われる\\n・今回は不要な情報とみなす（後ほど削除）\\n'"
      ]
     },
     "execution_count": 174,
     "metadata": {},
     "output_type": "execute_result"
    }
   ],
   "source": [
    "\"\"\"\n",
    "欠損値処理：Cabin\n",
    "\n",
    "・大半が欠損値\n",
    "・生死の分類にもあまり役立たないように思われる\n",
    "・今回は不要な情報とみなす（後ほど削除）\n",
    "\"\"\""
   ]
  },
  {
   "cell_type": "code",
   "execution_count": 175,
   "id": "a4589155",
   "metadata": {},
   "outputs": [],
   "source": [
    "# 欠損値処理の確認\n",
    "# Cabinは後ほど削除するとして、ほかの項目に欠損値がないことを確認する"
   ]
  },
  {
   "cell_type": "code",
   "execution_count": 176,
   "id": "8389f72b",
   "metadata": {},
   "outputs": [
    {
     "data": {
      "text/plain": [
       "PassengerId      0\n",
       "Survived         0\n",
       "Pclass           0\n",
       "Name             0\n",
       "Sex              0\n",
       "Age              0\n",
       "SibSp            0\n",
       "Parch            0\n",
       "Ticket           0\n",
       "Fare             0\n",
       "Cabin          687\n",
       "Embarked         0\n",
       "Title            0\n",
       "dtype: int64"
      ]
     },
     "execution_count": 176,
     "metadata": {},
     "output_type": "execute_result"
    }
   ],
   "source": [
    "train.isnull().sum()"
   ]
  },
  {
   "cell_type": "code",
   "execution_count": 177,
   "id": "f830cd80",
   "metadata": {},
   "outputs": [
    {
     "data": {
      "text/plain": [
       "PassengerId      0\n",
       "Pclass           0\n",
       "Name             0\n",
       "Sex              0\n",
       "Age              0\n",
       "SibSp            0\n",
       "Parch            0\n",
       "Ticket           0\n",
       "Fare             0\n",
       "Cabin          327\n",
       "Embarked         0\n",
       "Title            0\n",
       "dtype: int64"
      ]
     },
     "execution_count": 177,
     "metadata": {},
     "output_type": "execute_result"
    }
   ],
   "source": [
    "test.isnull().sum()"
   ]
  },
  {
   "cell_type": "code",
   "execution_count": 178,
   "id": "4f122fb5",
   "metadata": {},
   "outputs": [
    {
     "data": {
      "text/plain": [
       "'数値データのカテゴライズ化'"
      ]
     },
     "execution_count": 178,
     "metadata": {},
     "output_type": "execute_result"
    }
   ],
   "source": [
    "\"\"\"数値データのカテゴライズ化\"\"\""
   ]
  },
  {
   "cell_type": "code",
   "execution_count": 179,
   "id": "429d1f9c",
   "metadata": {},
   "outputs": [
    {
     "data": {
      "text/plain": [
       "'\\n数値データのカテゴライズ化\\n・モデルには「統計的に意味のある特徴」を投入したい\\n・例：１００人中１００人が全く異なる値＆値に何かしらの傾向もない\\n    →その特徴を用いての分類は難しい\\n\\n特に連続的に分布する数値データ（年齢など）では、異なる値を持ちやすい\\n１歳ごとの値ではばらばらだが、年代でグループ分けすれば、各年代での傾向がみられるかもしれない\\n    グループに分けてカテゴリの値を与える！\\n'"
      ]
     },
     "execution_count": 179,
     "metadata": {},
     "output_type": "execute_result"
    }
   ],
   "source": [
    "\"\"\"\n",
    "数値データのカテゴライズ化\n",
    "・モデルには「統計的に意味のある特徴」を投入したい\n",
    "・例：１００人中１００人が全く異なる値＆値に何かしらの傾向もない\n",
    "    →その特徴を用いての分類は難しい\n",
    "\n",
    "特に連続的に分布する数値データ（年齢など）では、異なる値を持ちやすい\n",
    "１歳ごとの値ではばらばらだが、年代でグループ分けすれば、各年代での傾向がみられるかもしれない\n",
    "    グループに分けてカテゴリの値を与える！\n",
    "\"\"\""
   ]
  },
  {
   "cell_type": "code",
   "execution_count": 180,
   "id": "43de0dff",
   "metadata": {},
   "outputs": [
    {
     "data": {
      "text/plain": [
       "'\\n何分割する？\\n今回は５分割\\n以下でほぼ全体の1/4ずつ\\n・～２２歳\\n・２３～３０歳\\n・３１～３７歳\\n・３８～５９歳\\n残り「６０～１００歳」で１グループ\\n'"
      ]
     },
     "execution_count": 180,
     "metadata": {},
     "output_type": "execute_result"
    },
    {
     "data": {
      "image/png": "[encoded data removed]",
      "text/plain": [
       "<Figure size 640x480 with 1 Axes>"
      ]
     },
     "metadata": {},
     "output_type": "display_data"
    }
   ],
   "source": [
    "# 数値データのカテゴライズ化：Age\n",
    "sns.boxplot(df[\"Age\"])\n",
    "\"\"\"\n",
    "何分割する？\n",
    "今回は５分割\n",
    "以下でほぼ全体の1/4ずつ\n",
    "・～２２歳\n",
    "・２３～３０歳\n",
    "・３１～３７歳\n",
    "・３８～５９歳\n",
    "残り「６０～１００歳」で１グループ\n",
    "\"\"\""
   ]
  },
  {
   "cell_type": "code",
   "execution_count": 186,
   "id": "c69befd2",
   "metadata": {},
   "outputs": [
    {
     "data": {
      "text/plain": [
       "'\\n数値データのカテゴライズ化：pd.cut()\\n・pd.cut()：数値データのカテゴライズに役立つ関数\\n・pd.cut(x, bins, labels, right)\\n    ・x:分割するデータ\\n    ・bins:分割基準のリスト、[0, 10, 30]とすると０～１０、１０～３０でカテゴライズ\\n    ・label:分割後に割り当てるカテゴリの値リスト\\n    ・right:境界値の小さい方をグループに含めるときはTrue(デフォルト)、大きい方を含めるときはFalse\\n        ０～１０のグループでは\\n            Trueなら0を含んで10を含まない\\n            Falseなら10を含んで0を含まない\\n            （rightについては正しいかどうかあいまいなので、追加で調べる必要あり、多分この説明は逆？）\\n'"
      ]
     },
     "execution_count": 186,
     "metadata": {},
     "output_type": "execute_result"
    }
   ],
   "source": [
    "\"\"\"\n",
    "数値データのカテゴライズ化：pd.cut()\n",
    "・pd.cut()：数値データのカテゴライズに役立つ関数\n",
    "・pd.cut(x, bins, labels, right)\n",
    "    ・x:分割するデータ\n",
    "    ・bins:分割基準のリスト、[0, 10, 30]とすると０～１０、１０～３０でカテゴライズ\n",
    "    ・label:分割後に割り当てるカテゴリの値リスト\n",
    "    ・right:境界値の小さい方をグループに含めるときはTrue(デフォルト)、大きい方を含めるときはFalse\n",
    "        ０～１０のグループでは\n",
    "            Trueなら0を含んで10を含まない\n",
    "            Falseなら10を含んで0を含まない\n",
    "            （rightについては正しいかどうかあいまいなので、追加で調べる必要あり、多分この説明は逆？）\n",
    "\"\"\""
   ]
  },
  {
   "cell_type": "code",
   "execution_count": 185,
   "id": "e7a0c935",
   "metadata": {},
   "outputs": [
    {
     "data": {
      "text/plain": [
       "0    1\n",
       "1    3\n",
       "2    1\n",
       "3    2\n",
       "4    2\n",
       "Name: Age_band, dtype: category\n",
       "Categories (5, int64): [0 < 1 < 2 < 3 < 4]"
      ]
     },
     "execution_count": 185,
     "metadata": {},
     "output_type": "execute_result"
    }
   ],
   "source": [
    "for df in data:\n",
    "    df[\"Age_band\"] = pd.cut(df[\"Age\"],[0, 22, 30, 37, 59, 100], labels=range(5), right=False)\n",
    "train[\"Age_band\"].head()"
   ]
  },
  {
   "cell_type": "code",
   "execution_count": 187,
   "id": "c36687d0",
   "metadata": {},
   "outputs": [
    {
     "data": {
      "text/plain": [
       "<Axes: >"
      ]
     },
     "execution_count": 187,
     "metadata": {},
     "output_type": "execute_result"
    },
    {
     "data": {
      "image/png": "[encoded data removed]",
      "text/plain": [
       "<Figure size 640x480 with 1 Axes>"
      ]
     },
     "metadata": {},
     "output_type": "display_data"
    }
   ],
   "source": [
    "\"\"\"\n",
    "演習　数値データのカテゴライズ化：Fare\n",
    "問題１　Fareも５分割し、新たにFare_bandという列を作れ\n",
    "    各グループは以下の基準で作成すること\n",
    "    ・～８\n",
    "    ・８～１５\n",
    "    ・１５～３１\n",
    "    ・３１～６６\n",
    "    ・６６～５２０\n",
    "    （境界値の小さい方をグループに含めること）\n",
    "\"\"\"\n",
    "\n",
    "sns.boxplot(df.Fare)"
   ]
  },
  {
   "cell_type": "code",
   "execution_count": 188,
   "id": "2fdc0ae5",
   "metadata": {},
   "outputs": [
    {
     "data": {
      "text/plain": [
       "0    0\n",
       "1    4\n",
       "2    0\n",
       "3    3\n",
       "4    1\n",
       "Name: Fare_band, dtype: category\n",
       "Categories (5, int64): [0 < 1 < 2 < 3 < 4]"
      ]
     },
     "execution_count": 188,
     "metadata": {},
     "output_type": "execute_result"
    }
   ],
   "source": [
    "# 問題１\n",
    "for df in data:\n",
    "    df[\"Fare_band\"] = pd.cut(df[\"Fare\"], [0, 8, 15, 31, 66, 520], labels=range(5), right=False)\n",
    "train.Fare_band.head()"
   ]
  },
  {
   "cell_type": "code",
   "execution_count": 196,
   "id": "df5f67cb",
   "metadata": {},
   "outputs": [
    {
     "data": {
      "text/plain": [
       "<Axes: xlabel='Age_band', ylabel='Survived'>"
      ]
     },
     "execution_count": 196,
     "metadata": {},
     "output_type": "execute_result"
    },
    {
     "data": {
      "image/png": "[encoded data removed]",
      "text/plain": [
       "<Figure size 640x480 with 1 Axes>"
      ]
     },
     "metadata": {},
     "output_type": "display_data"
    }
   ],
   "source": [
    "# カテゴライズした要素を切り口としてグラフ化\n",
    "# Title/Age_band/Fare_bandとSurvivedの関連を可視化する\n",
    "\n",
    "# Age_band\n",
    "\n",
    "# barplotは平均とばらつき\n",
    "\n",
    "# 解説のsns.barplot(train[\"Age_band\"], train[\"Survived\"])はエラーだった\n",
    "sns.barplot(data = train, x = \"Age_band\", y = \"Survived\")\n",
    "\n",
    "# ４番のグループは生存率にばらつきがある"
   ]
  },
  {
   "cell_type": "code",
   "execution_count": 199,
   "id": "9bddd73c",
   "metadata": {},
   "outputs": [
    {
     "data": {
      "text/plain": [
       "<Axes: xlabel='Fare_band', ylabel='Survived'>"
      ]
     },
     "execution_count": 199,
     "metadata": {},
     "output_type": "execute_result"
    },
    {
     "data": {
      "image/png": "[encoded data removed]",
      "text/plain": [
       "<Figure size 640x480 with 1 Axes>"
      ]
     },
     "metadata": {},
     "output_type": "display_data"
    }
   ],
   "source": [
    "# Fare_band\n",
    "\n",
    "sns.barplot(data = train, x = \"Fare_band\", y = \"Survived\")\n",
    "# Fare（料金）が高いほど、生存率が高い傾向がある"
   ]
  },
  {
   "cell_type": "code",
   "execution_count": 201,
   "id": "97d9dc6d",
   "metadata": {},
   "outputs": [
    {
     "data": {
      "text/plain": [
       "<Axes: xlabel='Title', ylabel='Survived'>"
      ]
     },
     "execution_count": 201,
     "metadata": {},
     "output_type": "execute_result"
    },
    {
     "data": {
      "image/png": "[encoded data removed]",
      "text/plain": [
       "<Figure size 640x480 with 1 Axes>"
      ]
     },
     "metadata": {},
     "output_type": "display_data"
    }
   ],
   "source": [
    "# Title(敬称)\n",
    "\n",
    "sns.barplot(data = train, x = \"Title\", y = \"Survived\")\n",
    "# Mr.（男性）の生存率が女性に比べて明らかに低い\n",
    "# 女性間でも差はある"
   ]
  },
  {
   "cell_type": "code",
   "execution_count": 202,
   "id": "c6e94e79",
   "metadata": {},
   "outputs": [
    {
     "data": {
      "text/plain": [
       "'\\n不要なデータの削除\\nPassengerId:あまり生死と関係がなさそう\\nName:Title列を作ったので用済み\\nTicket:規則性が見出せず扱いに困る\\nCabin:欠損値が多すぎたので不採用\\nAge:Age_band列を作ったので用済み\\nFare:Fare_band列を作ったので用済み\\n'"
      ]
     },
     "execution_count": 202,
     "metadata": {},
     "output_type": "execute_result"
    }
   ],
   "source": [
    "\"\"\"\n",
    "不要なデータの削除\n",
    "PassengerId:あまり生死と関係がなさそう\n",
    "Name:Title列を作ったので用済み\n",
    "Ticket:規則性が見出せず扱いに困る\n",
    "Cabin:欠損値が多すぎたので不採用\n",
    "Age:Age_band列を作ったので用済み\n",
    "Fare:Fare_band列を作ったので用済み\n",
    "\"\"\""
   ]
  },
  {
   "cell_type": "code",
   "execution_count": null,
   "id": "baac97d0",
   "metadata": {},
   "outputs": [],
   "source": [
    "# 不要なデータの削除\n",
    "\n",
    "# 削除する列名をリストに格納\n",
    "drop_columns = [\"PassengerId\", \"Name\", \"Ticket\", \"Cabin\", \"Age\", \"Fare\"]\n",
    "\n",
    "train = train.drop(drop_columns, axis = 1)\n",
    "test = test.drop(drop_columns, axis = 1)\n",
    "\n",
    "data = [train, test]"
   ]
  },
  {
   "cell_type": "code",
   "execution_count": null,
   "id": "a1059086",
   "metadata": {},
   "outputs": [],
   "source": [
    "\"\"\"\n",
    "文字列データの数値への置き換え\n",
    "\n",
    "そもそもなぜ、文字列データを数値に置き換えるのか？\n",
    "    学習モデルは数値しか理解できない\n",
    "    \"Title\",\"Sex\",\"Embarked\"列が文字列の状態\n",
    "\"\"\""
   ]
  },
  {
   "cell_type": "code",
   "execution_count": null,
   "id": "a4ec30d3",
   "metadata": {},
   "outputs": [],
   "source": [
    "# データを数値に置き換える\n",
    "\n",
    "# 素直に値を置き換える\n",
    "\n",
    "# loc[インデックス（行）,ヘッダー（列）]　行と列が条件に沿う値を抽出する\n",
    "\n",
    "for df in data:\n",
    "    # 性別を数字で置き換え\n",
    "    df.loc[df[\"Sex\"] == \"female\", \"Sex\"] = 0\n",
    "    df.loc[df[\"Sex\"] == \"male\", \"Sex\"] = 1\n",
    "    \n",
    "    # 敬称を数字で置き換え\n",
    "    df.loc[df[\"Title\"] == \"Mr\", \"Title\"] = 0\n",
    "    df.loc[df[\"Title\"] == \"Miss\", \"Title\"] = 1\n",
    "    df.loc[df[\"Title\"] == \"Mrs\", \"Title\"] = 2\n",
    "    df.loc[df[\"Title\"] == \"Master\", \"Title\"] = 3\n",
    "    df.loc[df[\"Title\"] == \"Others\", \"Title\"] = 4\n",
    "    \n",
    "    # 乗船した港３種類を数字で置き換え\n",
    "    df.loc[df[\"Embarked\"] == \"S\", \"Embarked\"] = 0\n",
    "    df.loc[df[\"Embarked\"] == \"C\", \"Embarked\"] = 1\n",
    "    df.loc[df[\"Embarked\"] == \"Q\", \"Embarked\"] = 2"
   ]
  },
  {
   "cell_type": "code",
   "execution_count": null,
   "id": "817cd76d",
   "metadata": {},
   "outputs": [],
   "source": [
    "\"\"\"前処理を施したデータの保存\"\"\""
   ]
  },
  {
   "cell_type": "code",
   "execution_count": null,
   "id": "94ac1c22",
   "metadata": {},
   "outputs": [],
   "source": [
    "# pickleというデータ形式でデータフレームを保存しよう\n",
    "# pickle:pythonにおけるオブジェクトの読み書きが可能なデータ形式\n",
    "\n",
    "# data[0]はdataというリストの0個目のオブジェクト、trainのこと\n",
    "data[0].to_pickle(\"./titanic/titanic_train_jisaku.pkl\")\n",
    "data[1].to_pickle(\"./titanic/titanic_test_jisaku.pkl\")\n",
    "\n",
    "# フォルダを確認したが、作成されていなかった"
   ]
  },
  {
   "cell_type": "code",
   "execution_count": null,
   "id": "0c5f7ee5",
   "metadata": {},
   "outputs": [],
   "source": [
    "\"\"\"\n",
    "Day7で学んだ知識を確認\n",
    "・「予測したい変数」のことを専門用語で言うと？\n",
    "    ・目的変数\n",
    "・「予測するためにモデルに投入する変数」のことを専門用語で言うと？\n",
    "    ・説明変数\n",
    "・今回学んだ前処理、どのようなものがあった？\n",
    "    ・データ加工して意味のある特徴を作る\n",
    "    ・欠損値処理\n",
    "    ・数値データのカテゴライズ化\n",
    "    ・不要データの削除\n",
    "    ・文字列データの数値への置き換え\n",
    "\"\"\""
   ]
  },
  {
   "cell_type": "code",
   "execution_count": null,
   "id": "2fdd06d6",
   "metadata": {},
   "outputs": [],
   "source": [
    "\"\"\"\n",
    "次回はモデル構築\n",
    "\n",
    "機械学習で時間がかかるのは前処理、とても重要\n",
    "丁寧な前処理の方が精度は高い\n",
    "\n",
    "・titanicデータに対する前処理は今回の方法以外にも様々な方法があります\n",
    "    webサイト等で調べてみてください\n",
    "・kaggleで参加者が公開したNotebookも参考になる\n",
    "    https://www.kaggle.com/c/titanic/notebooks\n",
    "・実務の上で前処理に困ったら、似たようなデータ/問題を扱った論文や書籍を参考にするとよいでしょう\n",
    "\"\"\""
   ]
  },
  {
   "cell_type": "code",
   "execution_count": null,
   "id": "9db41da6",
   "metadata": {},
   "outputs": [],
   "source": []
  }
 ],
 "metadata": {
  "kernelspec": {
   "display_name": "Python 3 (ipykernel)",
   "language": "python",
   "name": "python3"
  },
  "language_info": {
   "codemirror_mode": {
    "name": "ipython",
    "version": 3
   },
   "file_extension": ".py",
   "mimetype": "text/x-python",
   "name": "python",
   "nbconvert_exporter": "python",
   "pygments_lexer": "ipython3",
   "version": "3.10.9"
  }
 },
 "nbformat": 4,
 "nbformat_minor": 5
}
