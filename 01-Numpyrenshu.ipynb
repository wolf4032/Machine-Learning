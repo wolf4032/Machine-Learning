{
 "cells": [
  {
   "cell_type": "code",
   "execution_count": 3,
   "id": "1910cae7",
   "metadata": {},
   "outputs": [
    {
     "name": "stdout",
     "output_type": "stream",
     "text": [
      "[[1 2 3]\n",
      " [4 5 6]]\n"
     ]
    }
   ],
   "source": [
    "import numpy as np\n",
    "\n",
    "a = np.array([[1, 2, 3], [4, 5, 6]])\n",
    "\n",
    "print(a)"
   ]
  },
  {
   "cell_type": "code",
   "execution_count": 6,
   "id": "40488617",
   "metadata": {},
   "outputs": [
    {
     "data": {
      "text/plain": [
       "array([[0., 0., 0.],\n",
       "       [0., 0., 0.]])"
      ]
     },
     "execution_count": 6,
     "metadata": {},
     "output_type": "execute_result"
    }
   ],
   "source": [
    "# ゼロ行列　zerso((行数, 列数))\n",
    "# 引数はタプル型\n",
    "zeros2x3 = np.zeros((2,3))\n",
    "zeros2x3"
   ]
  },
  {
   "cell_type": "code",
   "execution_count": 7,
   "id": "23f5e909",
   "metadata": {},
   "outputs": [
    {
     "data": {
      "text/plain": [
       "array([[1., 1., 1.],\n",
       "       [1., 1., 1.]])"
      ]
     },
     "execution_count": 7,
     "metadata": {},
     "output_type": "execute_result"
    }
   ],
   "source": [
    "# イチ行列 ones((行数, 列数))\n",
    "# 引数はタプル型\n",
    "ones2x3 = np.ones((2, 3))\n",
    "ones2x3"
   ]
  },
  {
   "cell_type": "code",
   "execution_count": 137,
   "id": "d9b3066d",
   "metadata": {},
   "outputs": [
    {
     "name": "stdout",
     "output_type": "stream",
     "text": [
      "[0 1 2 3 4 5 6 7 8 9]\n",
      "[10 15 20 25]\n",
      "[0.  0.3 0.6 0.9 1.2 1.5 1.8]\n"
     ]
    }
   ],
   "source": [
    "# arange(終)はrange()をリストにするようなもの\n",
    "# arange(始, 終, 間隔)\n",
    "# 終わりの値は含まない\n",
    "print(np.arange(10))\n",
    "\n",
    "print(np.arange(10, 30, 5))\n",
    "print(np.arange(0, 2, 0.3))"
   ]
  },
  {
   "cell_type": "code",
   "execution_count": 11,
   "id": "17a28ac8",
   "metadata": {},
   "outputs": [
    {
     "name": "stdout",
     "output_type": "stream",
     "text": [
      "[0.         0.34906585 0.6981317  1.04719755 1.3962634  1.74532925\n",
      " 2.0943951  2.44346095 2.7925268  3.14159265]\n"
     ]
    }
   ],
   "source": [
    "# linspace()等間隔な数列を生成(始, 終, 個数)\n",
    "# 終わりの値を含む等間隔の個数分の数値\n",
    "# 画像処理や時系列データの線形補完\n",
    "print(np.linspace(0, np.pi, 10))"
   ]
  },
  {
   "cell_type": "code",
   "execution_count": 28,
   "id": "2a8cad5c",
   "metadata": {},
   "outputs": [
    {
     "name": "stdout",
     "output_type": "stream",
     "text": [
      "[[1 2 3]\n",
      " [4 5 6]]\n"
     ]
    }
   ],
   "source": [
    "# reshape(行数, 列数) 配列の形を変える\n",
    "# np.は必要ない？\n",
    "\n",
    "array = np.array([1, 2, 3, 4, 5, 6])\n",
    "\n",
    "# reshape(行数, 列数)\n",
    "# 配列を任意の行列に変形\n",
    "# 要素の順番は変わらない点がtranspose()と異なる\n",
    "arr2x3 = array.reshape(2, 3)\n",
    "print(arr2x3)\n",
    "\n",
    "# 割り切れない数値ではreshape不可\n",
    "# 今回の場合はreshape(2, 4)など"
   ]
  },
  {
   "cell_type": "code",
   "execution_count": 26,
   "id": "b7dc7f4f",
   "metadata": {},
   "outputs": [
    {
     "name": "stdout",
     "output_type": "stream",
     "text": [
      "[1 2 3 4 5 6]\n"
     ]
    }
   ],
   "source": [
    "# ravel() 配列の形を変える\n",
    "# np.は必要ない？\n",
    "array = np.array([1, 2, 3, 4, 5, 6])\n",
    "arr2x3 = array.reshape(2, 3)\n",
    "\n",
    "# ravel()\n",
    "# 行列を一次元にほどく、一次元配列に変形する\n",
    "a = arr2x3.ravel()\n",
    "print(a)"
   ]
  },
  {
   "cell_type": "code",
   "execution_count": 30,
   "id": "54df40cc",
   "metadata": {},
   "outputs": [
    {
     "name": "stdout",
     "output_type": "stream",
     "text": [
      "[[1 4]\n",
      " [2 5]\n",
      " [3 6]]\n"
     ]
    }
   ],
   "source": [
    "# transpose() 配列の形を変える\n",
    "# np.は必要ない？\n",
    "array = np.array([1, 2, 3, 4, 5, 6])\n",
    "arr2x3 = array.reshape(2, 3)\n",
    "    '''[[1 2 3]\n",
    "         [4 5 6]]'''\n",
    "\n",
    "# Tもしくはtranspose()\n",
    "# 転置行列、行列の入れ替え\n",
    "# 要素の順番が変わる点がreshape()と異なる\n",
    "arr2x3_T = arr2x3.T\n",
    "print(arr2x3.T)\n",
    "arr2x3_transpose = arr2x3.transpose()"
   ]
  },
  {
   "cell_type": "code",
   "execution_count": 32,
   "id": "1dd9a4e6",
   "metadata": {},
   "outputs": [
    {
     "data": {
      "text/plain": [
       "'\\n・arrange(2, 11, 2)で得られる配列は？\\n    [2, 4, 6, 8, 10]\\n    \\n・arange()とlinspace()の違いは？\\n    arangeは終了の値を含まない\\n    linspaceは終了の値を含むように等間隔に数列を生成\\n    \\n・Numpy配列の形状（行・列）を変更したいときに使う関数は？\\n    reshape()\\n    trasepose()\\n'"
      ]
     },
     "execution_count": 32,
     "metadata": {},
     "output_type": "execute_result"
    }
   ],
   "source": [
    "# 重要なところ\n",
    "\"\"\"\n",
    "・arrange(2, 11, 2)で得られる配列は？\n",
    "    [2, 4, 6, 8, 10]\n",
    "    \n",
    "・arange()とlinspace()の違いは？\n",
    "    arangeは終了の値を含まない\n",
    "    linspaceは終了の値を含むように等間隔に数列を生成\n",
    "    \n",
    "・Numpy配列の形状（行・列）を変更したいときに使う関数は？\n",
    "    reshape()\n",
    "    trasepose()\n",
    "\"\"\""
   ]
  },
  {
   "cell_type": "code",
   "execution_count": 77,
   "id": "889aa5ed",
   "metadata": {},
   "outputs": [
    {
     "name": "stdout",
     "output_type": "stream",
     "text": [
      "1: a = [ 0  1  2  3  4  5  6  7  8  9 10 11 12 13 14]\n",
      "2: b = [[ 0  1  2  3  4]\n",
      " [ 5  6  7  8  9]\n",
      " [10 11 12 13 14]]\n",
      "3: (15,)\n",
      "(3, 5)\n"
     ]
    }
   ],
   "source": [
    "\"\"\"\n",
    "演習問題\n",
    "１．0から14の連番が入った配列aを作成せよ\n",
    "２．配列aを3行5列に整列した配列bを作成せよ\n",
    "３．配列aとbの形状（行と列の数）を確認せよ\n",
    "\"\"\"\n",
    "\n",
    "a = np.arange(15)\n",
    "print(f\"1: a = {a}\")\n",
    "\n",
    "b = a.reshape(3, 5)\n",
    "print(f\"2: b = {b}\")\n",
    "\n",
    "print(\"3: \", end = \"\")\n",
    "print(a.shape)\n",
    "print(b.shape)"
   ]
  },
  {
   "cell_type": "code",
   "execution_count": 48,
   "id": "0ba0f0e4",
   "metadata": {},
   "outputs": [
    {
     "name": "stdout",
     "output_type": "stream",
     "text": [
      "a = [0 1 2 3 9]\n",
      "b = [ 2.  4.  6.  0. inf]\n",
      "\n",
      "a + b = [ 2.  5.  8.  3. inf]\n",
      "a + 3 = [ 3  4  5  6 12]\n",
      "\n",
      "a - b = [ -2.  -3.  -4.   3. -inf]\n",
      "a - 3 = [-3 -2 -1  0  6]\n"
     ]
    }
   ],
   "source": [
    "# Numpy配列に対する数学的演算\n",
    "# 足し算・引き算\n",
    "\n",
    "a = np.array([0, 1, 2, 3, 9])\n",
    "b = np.array([2, 4, 6, 0, np.inf])\n",
    "print(f\"a = {a}\")\n",
    "print(f\"b = {b}\")\n",
    "print()\n",
    "\n",
    "#足し算(+, np.add(a, b))\n",
    "print(f\"a + b = {a + b}\")\n",
    "print(f\"a + 3 = {a + 3}\")\n",
    "print()\n",
    "\n",
    "# 引き算(-, np.subtract(a, b))\n",
    "print(f\"a - b = {a - b}\")\n",
    "print(f\"a - 3 = {a - 3}\")"
   ]
  },
  {
   "cell_type": "code",
   "execution_count": 49,
   "id": "69aa29ea",
   "metadata": {},
   "outputs": [
    {
     "data": {
      "text/plain": [
       "'\\n足し算\\na + b, np.add(a, b)\\n\\n引き算\\na - b, np.subtract(a, b)\\n\\n掛け算\\na * b, multiply(a, b)\\n\\n割り算\\na / b\\n\\n商（割り算の商の整数部分）\\na // b\\n\\n割り算の余り\\na % b\\n\\naのb乗\\na ** b, np.power(a, b)\\n\\n平方根\\nnp.sqrt(a)\\n\\n行列Aと行列Bの要素積(同じ位置の要素毎に掛け算)\\nA * B\\n\\n行列Aと行列Bの積(線形代数の行列の掛け算)\\nnp.dot(A, B)\\n'"
      ]
     },
     "execution_count": 49,
     "metadata": {},
     "output_type": "execute_result"
    }
   ],
   "source": [
    "\"\"\"\n",
    "足し算\n",
    "a + b, np.add(a, b)\n",
    "\n",
    "引き算\n",
    "a - b, np.subtract(a, b)\n",
    "\n",
    "掛け算\n",
    "a * b, multiply(a, b)\n",
    "\n",
    "割り算\n",
    "a / b\n",
    "\n",
    "商（割り算の商の整数部分）\n",
    "a // b\n",
    "\n",
    "割り算の余り\n",
    "a % b\n",
    "\n",
    "aのb乗\n",
    "a ** b, np.power(a, b)\n",
    "\n",
    "平方根\n",
    "np.sqrt(a)\n",
    "\n",
    "行列Aと行列Bの要素積(同じ位置の要素毎に掛け算)\n",
    "A * B\n",
    "\n",
    "行列Aと行列Bの積(線形代数の行列の掛け算)\n",
    "np.dot(A, B)\n",
    "\"\"\""
   ]
  },
  {
   "cell_type": "code",
   "execution_count": 76,
   "id": "65905245",
   "metadata": {},
   "outputs": [
    {
     "name": "stdout",
     "output_type": "stream",
     "text": [
      "A * B = \n",
      "[[ 5 12]\n",
      " [21 32]]\n",
      "\n",
      "A.dot(B) = \n",
      "[[19 22]\n",
      " [43 50]]\n"
     ]
    },
    {
     "data": {
      "text/plain": [
       "'\\n行列のかけ算の計算方法：\\n・左は横でまとめる\\n・右は縦でまとめる\\n・まとめたもの同士かけ算（内積）\\n行列の積はAの列数とBの行数が一致していないとできない\\n'"
      ]
     },
     "execution_count": 76,
     "metadata": {},
     "output_type": "execute_result"
    }
   ],
   "source": [
    "# 行列積\n",
    "\n",
    "A = np.array([[1, 2], [3, 4]])\n",
    "B = np.array([[5, 6], [7, 8]])\n",
    "\n",
    "\n",
    "# 同じ要素番号同士の掛け算、要素積\n",
    "print(\"A * B = \")\n",
    "print(A * B)\n",
    "print()\n",
    "\n",
    "# 行列の掛け算(np.dot(A, B)でも可)、行列積\n",
    "print(\"A.dot(B) = \")\n",
    "print(A.dot(B))\n",
    "\"\"\"\n",
    "行列のかけ算の計算方法：\n",
    "・左は横でまとめる\n",
    "・右は縦でまとめる\n",
    "・まとめたもの同士かけ算（内積）\n",
    "行列の積はAの列数とBの行数が一致していないとできない\n",
    "\"\"\""
   ]
  },
  {
   "cell_type": "code",
   "execution_count": 61,
   "id": "0f219203",
   "metadata": {},
   "outputs": [
    {
     "name": "stdout",
     "output_type": "stream",
     "text": [
      "総和： 15\n",
      "最小値： 1\n",
      "最大値： 5\n",
      "平均値： 3.0\n",
      "標準偏差： 1.4142135623730951\n"
     ]
    }
   ],
   "source": [
    "a = np.array([1, 2, 3, 4, 5])\n",
    "print(f\"総和： {sum(a)}\")\n",
    "print(f\"最小値： {min(a)}\")\n",
    "print(f\"最大値： {max(a)}\")\n",
    "print(f\"平均値： {np.mean(a)}\")\n",
    "print(f\"標準偏差： {np.std(a)}\")"
   ]
  },
  {
   "cell_type": "code",
   "execution_count": 71,
   "id": "b01d2c7c",
   "metadata": {},
   "outputs": [
    {
     "name": "stdout",
     "output_type": "stream",
     "text": [
      "a =\n",
      "[[ 1  2  3  4]\n",
      " [ 5  6  7  8]\n",
      " [ 9 10 11 12]]\n",
      "\n",
      "要素の総和： a.sum() = 78\n",
      "行方向の和： a.sum(axis = 0) = [15 18 21 24]\n",
      "列方向の和： a.sum(axis = 1) = [10 26 42]\n"
     ]
    }
   ],
   "source": [
    "# 軸の概念\n",
    "a = np.array([[1, 2, 3, 4], [5, 6, 7, 8], [9, 10, 11, 12]])\n",
    "print(\"a =\")\n",
    "print(a)\n",
    "print()\n",
    "\n",
    "# 要素の総和\n",
    "print(f\"要素の総和： a.sum() = {a.sum()}\")\n",
    "\n",
    "# 行方向の和(各行の同じ位置の要素毎の和)\n",
    "print(f\"行方向の和： a.sum(axis = 0) = {a.sum(axis = 0)}\")\n",
    "\n",
    "# 列方向の和(各列の同じ位置の要素の和)\n",
    "print(f\"列方向の和： a.sum(axis = 1) = {a.sum(axis = 1)}\")"
   ]
  },
  {
   "cell_type": "code",
   "execution_count": 73,
   "id": "f3357a23",
   "metadata": {},
   "outputs": [
    {
     "data": {
      "text/plain": [
       "'\\n三角関数\\nsin(), cos(), tan()\\n\\n逆三角関数\\narcsin(), arccos(), arctan()\\n\\n指数関数\\nexp()\\n\\n対数関数\\nlog(), log10()\\n\\n絶対値\\nabs()\\n\\n(円周率)\\nnp.pi\\n'"
      ]
     },
     "execution_count": 73,
     "metadata": {},
     "output_type": "execute_result"
    }
   ],
   "source": [
    "# その他の数学的処理\n",
    "# 関数にはnp.をつけること\n",
    "\n",
    "\"\"\"\n",
    "三角関数\n",
    "sin(), cos(), tan()\n",
    "\n",
    "逆三角関数\n",
    "arcsin(), arccos(), arctan()\n",
    "\n",
    "指数関数\n",
    "exp()\n",
    "\n",
    "対数関数\n",
    "log(), log10()\n",
    "\n",
    "絶対値\n",
    "abs()\n",
    "\n",
    "(円周率)\n",
    "np.pi\n",
    "\"\"\""
   ]
  },
  {
   "cell_type": "code",
   "execution_count": 74,
   "id": "981bc2b6",
   "metadata": {},
   "outputs": [
    {
     "data": {
      "text/plain": [
       "'\\n重要なところの理解を確認\\n\\n・aのb乗\\n    **\\n・行列の要素積\\n    *\\n・行列積\\n    dot()\\n・Numpyにおける「軸」とは？\\n    axis = 0は行方向、axis = 1は列方向\\n'"
      ]
     },
     "execution_count": 74,
     "metadata": {},
     "output_type": "execute_result"
    }
   ],
   "source": [
    "\"\"\"\n",
    "重要なところの理解を確認\n",
    "\n",
    "・aのb乗\n",
    "    **\n",
    "・行列の要素積\n",
    "    *\n",
    "・行列積\n",
    "    dot()\n",
    "・Numpyにおける「軸」とは？\n",
    "    axis = 0は行方向、axis = 1は列方向\n",
    "\"\"\""
   ]
  },
  {
   "cell_type": "code",
   "execution_count": 96,
   "id": "3c15b05f",
   "metadata": {},
   "outputs": [
    {
     "name": "stdout",
     "output_type": "stream",
     "text": [
      "1: a =np.arange(1, 11) =\n",
      "[ 1  2  3  4  5  6  7  8  9 10]\n",
      "\n",
      "2: b = a.reshape(2, 5) =\n",
      "[[ 1  2  3  4  5]\n",
      " [ 6  7  8  9 10]]\n",
      "\n",
      "3:\n",
      "b0 = b[0] = [1 2 3 4 5]\n",
      "b1 = b[1] = [ 6  7  8  9 10]\n",
      "wa = b0 + b1 = [ 7  9 11 13 15]\n",
      "sa = b0 - b1 = [-5 -5 -5 -5 -5]\n",
      "seki = b0 * b1 = [ 6 14 24 36 50]\n",
      "sho = b0 / b1 = [0.16666667 0.28571429 0.375      0.44444444 0.5       ]\n"
     ]
    }
   ],
   "source": [
    "\"\"\"\n",
    "演習問題\n",
    "１．1から10までの連番が入った配列aを作成せよ\n",
    "２．配列aを2行5列の2次元配列の形式に変換せよ\n",
    "３．1から5までの連番が入った配列b0と、6から10までの連番が入った配列b1を作成し、\n",
    "　　同じ位置の要素ごとの足し算、引き算、掛け算、割り算の結果を表示せよ\n",
    "\"\"\"\n",
    "\n",
    "a = np.arange(1, 11)\n",
    "print(\"1: a =np.arange(1, 11) =\")\n",
    "print(a)\n",
    "print()\n",
    "\n",
    "b= a.reshape(2, 5)\n",
    "print(\"2: b = a.reshape(2, 5) =\")\n",
    "print(b)\n",
    "print()\n",
    "\n",
    "b0 = b[0]\n",
    "b1 = b[1]\n",
    "wa = b0 + b1\n",
    "sa = b0 - b1\n",
    "seki = b0 * b1\n",
    "sho = b0 / b1\n",
    "\n",
    "print(\"3:\")\n",
    "print(f\"b0 = b[0] = {b0}\")\n",
    "print(f\"b1 = b[1] = {b1}\")\n",
    "print(f\"wa = b0 + b1 = {b0 + b1}\")\n",
    "print(f\"sa = b0 - b1 = {b0 - b1}\")\n",
    "print(f\"seki = b0 * b1 = {b0 * b1}\")\n",
    "print(f\"sho = b0 / b1 = {b0 / b1}\")"
   ]
  },
  {
   "cell_type": "code",
   "execution_count": 97,
   "id": "56ec404b",
   "metadata": {},
   "outputs": [
    {
     "data": {
      "text/plain": [
       "'内部データの参照'"
      ]
     },
     "execution_count": 97,
     "metadata": {},
     "output_type": "execute_result"
    }
   ],
   "source": [
    "\"\"\"内部データの参照\"\"\""
   ]
  },
  {
   "cell_type": "code",
   "execution_count": 100,
   "id": "c8923fb3",
   "metadata": {},
   "outputs": [
    {
     "name": "stdout",
     "output_type": "stream",
     "text": [
      "う = a[2], a[-3]\n"
     ]
    }
   ],
   "source": [
    "# 内部データの参照\n",
    "# スライス：リストやタプルなどの複数のデータに対して一部分のデータを取得する操作\n",
    "# 先頭から数えるときは0, 1, 2,...末尾から数えるときは-1, -2, -3,...\n",
    "a = np.array([\"あ\", \"い\", \"う\", \"え\", \"お\"])\n",
    "\n",
    "print(f\"{a[2]} = a[2], a[-3]\")"
   ]
  },
  {
   "cell_type": "code",
   "execution_count": 122,
   "id": "ffe97472",
   "metadata": {},
   "outputs": [
    {
     "name": "stdout",
     "output_type": "stream",
     "text": [
      "['あ' 'う']\n"
     ]
    }
   ],
   "source": [
    "# 内部データの参照\n",
    "# 「一度に」複数取り出す場合は「引数をリスト」で指定する(a[0, 2]はaの0行目の2列目という意味になるから？)\n",
    "# 1行のリストだからこのように書くのか？\n",
    "# \"あ\"と\"う\"を取り出す場合(同じように書いてのPythonではできない)\n",
    "\n",
    "print(a[[0, 2]])"
   ]
  },
  {
   "cell_type": "code",
   "execution_count": 105,
   "id": "e36532ab",
   "metadata": {},
   "outputs": [
    {
     "name": "stdout",
     "output_type": "stream",
     "text": [
      "['い' 'う' 'え']\n",
      "['あ' 'う']\n"
     ]
    }
   ],
   "source": [
    "# 内部データの参照\n",
    "# a[始 : 終]　終わりは含まれない、この場合は引数はリストにしない\n",
    "print(a[1 : 4])\n",
    "# a[始 : 終 : 間隔]も可能\n",
    "print(a[0 : 4 : 2])"
   ]
  },
  {
   "cell_type": "code",
   "execution_count": 108,
   "id": "e6ec3993",
   "metadata": {},
   "outputs": [
    {
     "name": "stdout",
     "output_type": "stream",
     "text": [
      "6\n",
      "[3 6]\n"
     ]
    }
   ],
   "source": [
    "# 二次元配列における参照\n",
    "b = np.array([[1, 2, 3], [4, 5, 6]])\n",
    "\n",
    "# 1行目の2列目\n",
    "print(b[1, 2])\n",
    "\n",
    "# 任意(すべて)の行の2列目\n",
    "print(b[:, 2])"
   ]
  },
  {
   "cell_type": "code",
   "execution_count": 110,
   "id": "0a806b75",
   "metadata": {},
   "outputs": [
    {
     "data": {
      "text/plain": [
       "array([[1, 3],\n",
       "       [4, 6]])"
      ]
     },
     "execution_count": 110,
     "metadata": {},
     "output_type": "execute_result"
    }
   ],
   "source": [
    "b[:, [0, 2]]\n",
    "# 任意(すべて)の行の0列目と2列目"
   ]
  },
  {
   "cell_type": "code",
   "execution_count": 121,
   "id": "ebfb8788",
   "metadata": {},
   "outputs": [
    {
     "name": "stdout",
     "output_type": "stream",
     "text": [
      "[[0 1 2 3 4]\n",
      " [1 2 3 4 5]\n",
      " [2 3 4 5 6]\n",
      " [3 4 5 6 7]\n",
      " [4 5 6 7 8]]\n",
      "\n",
      "[4 5 6 7 8]\n",
      "\n",
      "[0 2 4 6 8]\n"
     ]
    }
   ],
   "source": [
    "b = np.array([range(5), range(1, 6), range(2, 7), range(3, 8), range(4, 9)])\n",
    "print(b)\n",
    "print()\n",
    "\n",
    "print(b[-1])\n",
    "print()\n",
    "\n",
    "print(b[range(5),range(5)])\n",
    "# b[[0, 1, 2, 3, 4], [0, 1, 2, 3, 4]]\n",
    "# = b[0, 0], b[1, 1], b[2, 2], b[3, 3], b[4, 4]"
   ]
  },
  {
   "cell_type": "code",
   "execution_count": 127,
   "id": "d7eb0054",
   "metadata": {},
   "outputs": [
    {
     "name": "stdout",
     "output_type": "stream",
     "text": [
      "[[ 0  1  2  3  4]\n",
      " [ 5  6  7  8  9]\n",
      " [10 11 12 13 14]\n",
      " [15 16 17 18 19]]\n",
      "\n",
      "[[0 0 0 1 0]\n",
      " [0 1 0 0 1]\n",
      " [0 0 1 0 0]\n",
      " [1 0 0 1 0]]\n"
     ]
    }
   ],
   "source": [
    "# 条件に合った要素の抜き出し\n",
    "# np.where(条件式, 真の場合の値, 偽の場合の値)\n",
    "a = np.arange(20).reshape((4,5))\n",
    "print(a)\n",
    "print()\n",
    "\n",
    "# aの要素が3の倍数であれば1、そうでなければ0をかえす\n",
    "b = np.where((a > 0) & (a % 3 == 0), 1, 0)\n",
    "print(b)"
   ]
  },
  {
   "cell_type": "code",
   "execution_count": 131,
   "id": "4fcaa782",
   "metadata": {},
   "outputs": [
    {
     "name": "stdout",
     "output_type": "stream",
     "text": [
      "['あ' 'い' 'う' 'え' 'お']\n",
      "[[1 2 3]\n",
      " [4 5 6]]\n",
      "\n",
      "い\n",
      "\n",
      "[3 6]\n"
     ]
    }
   ],
   "source": [
    "\"\"\"\n",
    "知識の確認\n",
    "\"\"\"\n",
    "a = np.array([\"あ\", \"い\", \"う\", \"え\", \"お\"])\n",
    "b = np.array(range(1, 7)).reshape(2, 3)\n",
    "print(a)\n",
    "print(b)\n",
    "print()\n",
    "\n",
    "# aから\"い\"を取り出す\n",
    "print(a[1])\n",
    "print()\n",
    "\n",
    "# bから3列目を取り出す\n",
    "print(b[:, 2])"
   ]
  },
  {
   "cell_type": "code",
   "execution_count": 7,
   "id": "9bbaf60a",
   "metadata": {},
   "outputs": [
    {
     "name": "stdout",
     "output_type": "stream",
     "text": [
      "[[ 1  2  3  4  5]\n",
      " [ 6  7  8  9 10]\n",
      " [11 12 13 14 15]\n",
      " [16 17 18 19 20]\n",
      " [21 22 23 24 25]]\n",
      "\n",
      "[[ 7  8]\n",
      " [12 13]]\n"
     ]
    }
   ],
   "source": [
    "\"\"\"演習問題\"\"\"\n",
    "# 問題１\n",
    "# 順番に１～２５が入る5×5の配列を定義し、標準出力せよ\n",
    "a = np.arange(1, 26).reshape(5, 5)\n",
    "print(a)\n",
    "print()\n",
    "\n",
    "# 問題2\n",
    "# 行列の特定範囲を抽出\n",
    "# 7,8,12,13がある範囲を標準出力せよ(赤枠で囲まれていた)\n",
    "print(a[1: 3, 1: 3])\n",
    "# 1行目から2行目の1列目から2列目"
   ]
  },
  {
   "cell_type": "code",
   "execution_count": null,
   "id": "4a02b402",
   "metadata": {},
   "outputs": [],
   "source": []
  }
 ],
 "metadata": {
  "kernelspec": {
   "display_name": "Python 3 (ipykernel)",
   "language": "python",
   "name": "python3"
  },
  "language_info": {
   "codemirror_mode": {
    "name": "ipython",
    "version": 3
   },
   "file_extension": ".py",
   "mimetype": "text/x-python",
   "name": "python",
   "nbconvert_exporter": "python",
   "pygments_lexer": "ipython3",
   "version": "3.10.9"
  }
 },
 "nbformat": 4,
 "nbformat_minor": 5
}
