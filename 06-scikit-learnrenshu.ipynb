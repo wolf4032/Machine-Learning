{
 "cells": [
  {
   "cell_type": "code",
   "execution_count": 1,
   "id": "52bbf72b",
   "metadata": {},
   "outputs": [
    {
     "data": {
      "text/plain": [
       "'\\n前回までと今回の学習フローチャート\\n前回まで\\n    １．データの整理\\n    ２．データの可視化\\n    ３．データの前処理\\n    \\n今回\\n    １．学習モデルの作成\\n    ２．データの学習\\n    ３．予測・評価\\n'"
      ]
     },
     "execution_count": 1,
     "metadata": {},
     "output_type": "execute_result"
    }
   ],
   "source": [
    "\"\"\"\n",
    "前回までと今回の学習フローチャート\n",
    "前回まで\n",
    "    １．データの整理\n",
    "    ２．データの可視化\n",
    "    ３．データの前処理\n",
    "    \n",
    "今回\n",
    "    １．学習モデルの作成\n",
    "    ２．データの学習\n",
    "    ３．予測・評価\n",
    "\"\"\""
   ]
  },
  {
   "cell_type": "code",
   "execution_count": 2,
   "id": "d1f4acd8",
   "metadata": {},
   "outputs": [
    {
     "data": {
      "text/plain": [
       "'\\n今回の講座のゴール\\nPython機械学習ライブラリscikit-learnを用いて機械学習モデルを構築する\\n'"
      ]
     },
     "execution_count": 2,
     "metadata": {},
     "output_type": "execute_result"
    }
   ],
   "source": [
    "\"\"\"\n",
    "今回の講座のゴール\n",
    "Python機械学習ライブラリscikit-learnを用いて機械学習モデルを構築する\n",
    "\"\"\""
   ]
  },
  {
   "cell_type": "code",
   "execution_count": 3,
   "id": "273ad63e",
   "metadata": {},
   "outputs": [
    {
     "data": {
      "text/plain": [
       "'\\nscikit-learnについて\\n・scikit-learn:Python用のオープンソース機械学習ライブラリ\\n    ・オープンソース故、バグの修正が早い\\n・機械学習の各種アルゴリズムが簡単に使用可能\\n    ・ここ数年以内に開発されたような分類機以外は、\\n    \\u3000大体scikit-learnの機能で網羅されていると言っても過言ではない\\n'"
      ]
     },
     "execution_count": 3,
     "metadata": {},
     "output_type": "execute_result"
    }
   ],
   "source": [
    "\"\"\"\n",
    "scikit-learnについて\n",
    "・scikit-learn:Python用のオープンソース機械学習ライブラリ\n",
    "    ・オープンソース故、バグの修正が早い\n",
    "・機械学習の各種アルゴリズムが簡単に使用可能\n",
    "    ・ここ数年以内に開発されたような分類機以外は、\n",
    "    　大体scikit-learnの機能で網羅されていると言っても過言ではない\n",
    "\"\"\""
   ]
  },
  {
   "cell_type": "code",
   "execution_count": 4,
   "id": "bebc7baa",
   "metadata": {},
   "outputs": [
    {
     "data": {
      "text/plain": [
       "'\\nDay8のゴール\\n・機械学習の概要を理解する\\n・scikit-learnを用いてモデル構築及び評価を行う方法を理解する\\n'"
      ]
     },
     "execution_count": 4,
     "metadata": {},
     "output_type": "execute_result"
    }
   ],
   "source": [
    "\"\"\"\n",
    "Day8のゴール\n",
    "・機械学習の概要を理解する\n",
    "・scikit-learnを用いてモデル構築及び評価を行う方法を理解する\n",
    "\"\"\""
   ]
  },
  {
   "cell_type": "code",
   "execution_count": 5,
   "id": "7af0627d",
   "metadata": {},
   "outputs": [
    {
     "data": {
      "text/plain": [
       "'\\nDay8の目次\\n・機械学習の概要\\n・学習データの分割\\n・モデルの構築\\n・モデルの検証\\n'"
      ]
     },
     "execution_count": 5,
     "metadata": {},
     "output_type": "execute_result"
    }
   ],
   "source": [
    "\"\"\"\n",
    "Day8の目次\n",
    "・機械学習の概要\n",
    "・学習データの分割\n",
    "・モデルの構築\n",
    "・モデルの検証\n",
    "\"\"\""
   ]
  },
  {
   "cell_type": "code",
   "execution_count": 6,
   "id": "5b843fef",
   "metadata": {},
   "outputs": [
    {
     "data": {
      "text/plain": [
       "'機械学習の概要'"
      ]
     },
     "execution_count": 6,
     "metadata": {},
     "output_type": "execute_result"
    }
   ],
   "source": [
    "\"\"\"機械学習の概要\"\"\""
   ]
  },
  {
   "cell_type": "code",
   "execution_count": 7,
   "id": "df630c04",
   "metadata": {},
   "outputs": [
    {
     "data": {
      "text/plain": [
       "'\\n「機械学習全体」について学ぶ\\n機械学習のアプローチには大きく２つある\\n    ・教師あり学習\\n    ・教師なし学習\\n'"
      ]
     },
     "execution_count": 7,
     "metadata": {},
     "output_type": "execute_result"
    }
   ],
   "source": [
    "\"\"\"\n",
    "「機械学習全体」について学ぶ\n",
    "機械学習のアプローチには大きく２つある\n",
    "    ・教師あり学習\n",
    "    ・教師なし学習\n",
    "\"\"\""
   ]
  },
  {
   "cell_type": "code",
   "execution_count": 8,
   "id": "1d631e3e",
   "metadata": {},
   "outputs": [
    {
     "data": {
      "text/plain": [
       "'\\n機械学習の概要：教師なし学習\\n\\nデータ同士の関連性を見つけたいときに使う\\n与えられた結果を人間が解釈する必要がある\\n\\n・「答えがないデータのみを与えて」、データの中の傾向をコンピュータに発見させる\\n・アルゴリズムの例：主成分分析、クラスター分析\\n・イメージ：動物園の鳥かごを見ると、姿・形から大体の仲間わけができる\\n'"
      ]
     },
     "execution_count": 8,
     "metadata": {},
     "output_type": "execute_result"
    }
   ],
   "source": [
    "\"\"\"\n",
    "機械学習の概要：教師なし学習\n",
    "\n",
    "データ同士の関連性を見つけたいときに使う\n",
    "与えられた結果を人間が解釈する必要がある\n",
    "\n",
    "・「答えがないデータのみを与えて」、データの中の傾向をコンピュータに発見させる\n",
    "・アルゴリズムの例：主成分分析、クラスター分析\n",
    "・イメージ：動物園の鳥かごを見ると、姿・形から大体の仲間わけができる\n",
    "\"\"\""
   ]
  },
  {
   "cell_type": "code",
   "execution_count": 9,
   "id": "eee47328",
   "metadata": {},
   "outputs": [
    {
     "data": {
      "text/plain": [
       "'\\n機械学習の概要：教師あり学習\\n・「データとそれに対応する理想の出力（＝教師）」を与えることで、その間の関係性をコンピュータに理解させる\\n・アルゴリズムの例：サポートベクターマシン、決定木、ニューラルネットワーク\\n・犬の画像というデータとそれに対する理想の出力としての「犬」、\\n\\u3000猫の画像というデータとそれに対する理想の出力としての「猫」を渡し、関係性を学習させる\\n\\n・アノテーション（教師データを作成する作業）\\n    例：犬の画像に対する理想の出力として「犬」を用意すること\\n'"
      ]
     },
     "execution_count": 9,
     "metadata": {},
     "output_type": "execute_result"
    }
   ],
   "source": [
    "\"\"\"\n",
    "機械学習の概要：教師あり学習\n",
    "・「データとそれに対応する理想の出力（＝教師）」を与えることで、その間の関係性をコンピュータに理解させる\n",
    "・アルゴリズムの例：サポートベクターマシン、決定木、ニューラルネットワーク\n",
    "・犬の画像というデータとそれに対する理想の出力としての「犬」、\n",
    "　猫の画像というデータとそれに対する理想の出力としての「猫」を渡し、関係性を学習させる\n",
    "\n",
    "・アノテーション（教師データを作成する作業）\n",
    "    例：犬の画像に対する理想の出力として「犬」を用意すること\n",
    "\"\"\""
   ]
  },
  {
   "cell_type": "code",
   "execution_count": 10,
   "id": "a7f8fc9c",
   "metadata": {},
   "outputs": [
    {
     "data": {
      "text/plain": [
       "'\\n教師あり学習の２つのPhase\\n・学習Phase\\u3000関係性の習得\\n    教師データの入力と出力でモデルを学習させる\\n・運用Phase\\n    未知のデータをモデルに入力して出力を予測させる\\n\\n\\n機械学習の目的：未知のデータに対して精度よく予測すること\\n'"
      ]
     },
     "execution_count": 10,
     "metadata": {},
     "output_type": "execute_result"
    }
   ],
   "source": [
    "\"\"\"\n",
    "教師あり学習の２つのPhase\n",
    "・学習Phase　関係性の習得\n",
    "    教師データの入力と出力でモデルを学習させる\n",
    "・運用Phase\n",
    "    未知のデータをモデルに入力して出力を予測させる\n",
    "\n",
    "\n",
    "機械学習の目的：未知のデータに対して精度よく予測すること\n",
    "\"\"\""
   ]
  },
  {
   "cell_type": "code",
   "execution_count": 35,
   "id": "ec391c05",
   "metadata": {},
   "outputs": [
    {
     "data": {
      "text/plain": [
       "'\\n今回用いる分類手法：ランダムフォレスト\\n    決定「木」がたくさんあるからランダム「フォレスト」？\\n\\nランダムフォレスト：\\n    決定木を弱学習器としてアンサンブル学習させたもの\\n'"
      ]
     },
     "execution_count": 35,
     "metadata": {},
     "output_type": "execute_result"
    }
   ],
   "source": [
    "\"\"\"\n",
    "今回用いる分類手法：ランダムフォレスト\n",
    "    決定「木」がたくさんあるからランダム「フォレスト」？\n",
    "\n",
    "ランダムフォレスト：\n",
    "    決定木を弱学習器としてアンサンブル学習させたもの\n",
    "\"\"\""
   ]
  },
  {
   "cell_type": "code",
   "execution_count": 14,
   "id": "4fb2ee4b",
   "metadata": {},
   "outputs": [
    {
     "data": {
      "text/plain": [
       "'\\n決定木とは\\n    条件分岐を学習する手法\\n    どの変数を使うか、何を条件にするか\\n\\n例：お出かけするかどうか\\n    天気を判断→温度を判断→湿度を判断→出かける/出かけない\\n    各判断の条件で分岐を繰り返し、目的変数を出す\\n    説明変数：天気、温度、湿度\\n    目的変数：出かける/出かけない\\n'"
      ]
     },
     "execution_count": 14,
     "metadata": {},
     "output_type": "execute_result"
    }
   ],
   "source": [
    "\"\"\"\n",
    "決定木とは\n",
    "    条件分岐を学習する手法\n",
    "    どの変数を使うか、何を条件にするか\n",
    "\n",
    "例：お出かけするかどうか\n",
    "    天気を判断→温度を判断→湿度を判断→出かける/出かけない\n",
    "    各判断の条件で分岐を繰り返し、目的変数を出す\n",
    "    説明変数：天気、温度、湿度\n",
    "    目的変数：出かける/出かけない\n",
    "\"\"\""
   ]
  },
  {
   "cell_type": "code",
   "execution_count": 15,
   "id": "e6923bd6",
   "metadata": {},
   "outputs": [
    {
     "data": {
      "text/plain": [
       "'\\nアンサンブル学習のイメージ\\n・予測精度が比較的低い分類器（弱学習器）を複数作成し、予測結果を多数決で決める\\n・イメージ：審判は複数人で判断を下す方が客観性が高い\\n\\nアンサンブルモデル\\n    複数の弱学習器を持っている\\n    乗客データを各弱学習器に学習させ、それぞれの出力から多数決で予測結果を決定する\\n'"
      ]
     },
     "execution_count": 15,
     "metadata": {},
     "output_type": "execute_result"
    }
   ],
   "source": [
    "\"\"\"\n",
    "アンサンブル学習のイメージ\n",
    "・予測精度が比較的低い分類器（弱学習器）を複数作成し、予測結果を多数決で決める\n",
    "・イメージ：審判は複数人で判断を下す方が客観性が高い\n",
    "\n",
    "アンサンブルモデル\n",
    "    複数の弱学習器を持っている\n",
    "    乗客データを各弱学習器に学習させ、それぞれの出力から多数決で予測結果を決定する\n",
    "\"\"\""
   ]
  },
  {
   "cell_type": "code",
   "execution_count": 16,
   "id": "e1c37838",
   "metadata": {},
   "outputs": [
    {
     "data": {
      "text/plain": [
       "'学習データの分割'"
      ]
     },
     "execution_count": 16,
     "metadata": {},
     "output_type": "execute_result"
    }
   ],
   "source": [
    "\"\"\"学習データの分割\"\"\""
   ]
  },
  {
   "cell_type": "code",
   "execution_count": 18,
   "id": "ad93911c",
   "metadata": {},
   "outputs": [],
   "source": [
    "import pandas as pd"
   ]
  },
  {
   "cell_type": "code",
   "execution_count": 19,
   "id": "0ec26f89",
   "metadata": {},
   "outputs": [
    {
     "data": {
      "text/html": [
       "<div>\n",
       "<style scoped>\n",
       "    .dataframe tbody tr th:only-of-type {\n",
       "        vertical-align: middle;\n",
       "    }\n",
       "\n",
       "    .dataframe tbody tr th {\n",
       "        vertical-align: top;\n",
       "    }\n",
       "\n",
       "    .dataframe thead th {\n",
       "        text-align: right;\n",
       "    }\n",
       "</style>\n",
       "<table border=\"1\" class=\"dataframe\">\n",
       "  <thead>\n",
       "    <tr style=\"text-align: right;\">\n",
       "      <th></th>\n",
       "      <th>Survived</th>\n",
       "      <th>Pclass</th>\n",
       "      <th>Sex</th>\n",
       "      <th>SibSp</th>\n",
       "      <th>Parch</th>\n",
       "      <th>Embarked</th>\n",
       "      <th>Title</th>\n",
       "      <th>Age_band</th>\n",
       "      <th>Fare_band</th>\n",
       "    </tr>\n",
       "  </thead>\n",
       "  <tbody>\n",
       "    <tr>\n",
       "      <th>0</th>\n",
       "      <td>0</td>\n",
       "      <td>3</td>\n",
       "      <td>1</td>\n",
       "      <td>1</td>\n",
       "      <td>0</td>\n",
       "      <td>0</td>\n",
       "      <td>0</td>\n",
       "      <td>1</td>\n",
       "      <td>0</td>\n",
       "    </tr>\n",
       "    <tr>\n",
       "      <th>1</th>\n",
       "      <td>1</td>\n",
       "      <td>1</td>\n",
       "      <td>0</td>\n",
       "      <td>1</td>\n",
       "      <td>0</td>\n",
       "      <td>1</td>\n",
       "      <td>2</td>\n",
       "      <td>3</td>\n",
       "      <td>4</td>\n",
       "    </tr>\n",
       "    <tr>\n",
       "      <th>2</th>\n",
       "      <td>1</td>\n",
       "      <td>3</td>\n",
       "      <td>0</td>\n",
       "      <td>0</td>\n",
       "      <td>0</td>\n",
       "      <td>0</td>\n",
       "      <td>1</td>\n",
       "      <td>1</td>\n",
       "      <td>0</td>\n",
       "    </tr>\n",
       "    <tr>\n",
       "      <th>3</th>\n",
       "      <td>1</td>\n",
       "      <td>1</td>\n",
       "      <td>0</td>\n",
       "      <td>1</td>\n",
       "      <td>0</td>\n",
       "      <td>0</td>\n",
       "      <td>2</td>\n",
       "      <td>2</td>\n",
       "      <td>3</td>\n",
       "    </tr>\n",
       "    <tr>\n",
       "      <th>4</th>\n",
       "      <td>0</td>\n",
       "      <td>3</td>\n",
       "      <td>1</td>\n",
       "      <td>0</td>\n",
       "      <td>0</td>\n",
       "      <td>0</td>\n",
       "      <td>0</td>\n",
       "      <td>2</td>\n",
       "      <td>1</td>\n",
       "    </tr>\n",
       "  </tbody>\n",
       "</table>\n",
       "</div>"
      ],
      "text/plain": [
       "   Survived  Pclass  Sex  SibSp  Parch  Embarked  Title Age_band Fare_band\n",
       "0         0       3    1      1      0         0      0        1         0\n",
       "1         1       1    0      1      0         1      2        3         4\n",
       "2         1       3    0      0      0         0      1        1         0\n",
       "3         1       1    0      1      0         0      2        2         3\n",
       "4         0       3    1      0      0         0      0        2         1"
      ]
     },
     "execution_count": 19,
     "metadata": {},
     "output_type": "execute_result"
    }
   ],
   "source": [
    "# まずは、前処理で作成したpickleからデータフレームを復元\n",
    "train = pd.read_pickle(\"./titanic/titanic_train.pkl\")\n",
    "test = pd.read_pickle(\"./titanic/titanic_test.pkl\")\n",
    "data = [train, test]\n",
    "\n",
    "data[0].head()"
   ]
  },
  {
   "cell_type": "code",
   "execution_count": 20,
   "id": "a4b324ca",
   "metadata": {},
   "outputs": [
    {
     "data": {
      "text/plain": [
       "'\\nデータの分割\\ntrain\\n    ・\"Survived\"データあり\\n    ・学習用のデータ\\n\\ntest\\n    ・\"Survived\"データなし\\n    ・分類器を用いて結果を予想したい\\n    \\n今の状況でtrainデータすべてを用いて学習してはいけない\\n    学習には使わなかった「答えのあるデータ」で未知のデータに対する予測精度を評価する\\n        →trainをtr_trainとtr_test（モデルの評価用）に分割する\\n'"
      ]
     },
     "execution_count": 20,
     "metadata": {},
     "output_type": "execute_result"
    }
   ],
   "source": [
    "\"\"\"\n",
    "データの分割\n",
    "train\n",
    "    ・\"Survived\"データあり\n",
    "    ・学習用のデータ\n",
    "\n",
    "test\n",
    "    ・\"Survived\"データなし\n",
    "    ・分類器を用いて結果を予想したい\n",
    "    \n",
    "今の状況でtrainデータすべてを用いて学習してはいけない\n",
    "    学習には使わなかった「答えのあるデータ」で未知のデータに対する予測精度を評価する\n",
    "        →trainをtr_trainとtr_test（モデルの評価用）に分割する\n",
    "\"\"\""
   ]
  },
  {
   "cell_type": "code",
   "execution_count": 21,
   "id": "1557c658",
   "metadata": {},
   "outputs": [
    {
     "data": {
      "text/plain": [
       "'\\ntr_trainで学習\\n    特徴と正解の関係性を学習\\n\\ntr_testで評価\\n    testデータは正解がないから評価できない\\n'"
      ]
     },
     "execution_count": 21,
     "metadata": {},
     "output_type": "execute_result"
    }
   ],
   "source": [
    "\"\"\"\n",
    "tr_trainで学習\n",
    "    特徴と正解の関係性を学習\n",
    "\n",
    "tr_testで評価\n",
    "    testデータは正解がないから評価できない\n",
    "\"\"\""
   ]
  },
  {
   "cell_type": "code",
   "execution_count": 22,
   "id": "1a5cff3c",
   "metadata": {},
   "outputs": [],
   "source": [
    "from sklearn.model_selection import train_test_split"
   ]
  },
  {
   "cell_type": "code",
   "execution_count": 23,
   "id": "3c3a622e",
   "metadata": {},
   "outputs": [],
   "source": [
    "\"\"\"\n",
    "データの分割\n",
    "データ分割の関数：train_test_split(分割するデータ, test_size=元のデータに対するモデル評価用のデータ量の割合, random_state=何かしらの数値)\n",
    "\n",
    "tr_train,tr_testに振り分けられるデータはランダムに決まる\n",
    "random_state = 1234は振り分け方を固定するための値\n",
    "\"\"\"\n",
    "\n",
    "# 今回はtest_size=0.3なので、tr_train : tr_test = 7 : 3\n",
    "tr_train, tr_test = train_test_split(train, test_size=0.3, random_state=1234)"
   ]
  },
  {
   "cell_type": "code",
   "execution_count": 24,
   "id": "4c2379f3",
   "metadata": {},
   "outputs": [],
   "source": [
    "\"\"\"\n",
    "データの分割\n",
    "・tr_trainとtr_testを特徴と正解にそれぞれ分割\n",
    "・columnsの0番目がSurvived列\n",
    "\"\"\"\n",
    "\n",
    "# 訓練用の説明変数\n",
    "tr_train_X = tr_train[train.columns[1:]]\n",
    "\n",
    "# 訓練用の目的変数\n",
    "tr_train_Y = tr_train[train.columns[0]]\n",
    "\n",
    "# 評価用の説明変数\n",
    "tr_test_X = tr_test[train.columns[1:]]\n",
    "\n",
    "# 評価用の目的変数\n",
    "tr_test_Y = tr_test[train.columns[0]]"
   ]
  },
  {
   "cell_type": "code",
   "execution_count": 25,
   "id": "47450986",
   "metadata": {},
   "outputs": [
    {
     "data": {
      "text/plain": [
       "Index(['Pclass', 'Sex', 'SibSp', 'Parch', 'Embarked', 'Title', 'Age_band',\n",
       "       'Fare_band'],\n",
       "      dtype='object')"
      ]
     },
     "execution_count": 25,
     "metadata": {},
     "output_type": "execute_result"
    }
   ],
   "source": [
    "train.columns[1:]"
   ]
  },
  {
   "cell_type": "code",
   "execution_count": 26,
   "id": "39946c66",
   "metadata": {},
   "outputs": [
    {
     "data": {
      "text/plain": [
       "'Survived'"
      ]
     },
     "execution_count": 26,
     "metadata": {},
     "output_type": "execute_result"
    }
   ],
   "source": [
    "train.columns[0]"
   ]
  },
  {
   "cell_type": "code",
   "execution_count": 27,
   "id": "75363426",
   "metadata": {},
   "outputs": [
    {
     "data": {
      "text/plain": [
       "'\\n重要なので、一旦まとめ\\n・なぜtrainをさらにtr_trainとtr_testに分割する？\\n    →train全部用いて学習すると、学習がうまくできたかどうかを評価できないから\\n・では元々あった「test」は何のためにある？\\n    →本当に予測したいデータ。答えがない（Kaggle側が持っている）\\n・データを分割するときに用いる関数は？\\n    →train_test_split()\\n'"
      ]
     },
     "execution_count": 27,
     "metadata": {},
     "output_type": "execute_result"
    }
   ],
   "source": [
    "\"\"\"\n",
    "重要なので、一旦まとめ\n",
    "・なぜtrainをさらにtr_trainとtr_testに分割する？\n",
    "    →train全部用いて学習すると、学習がうまくできたかどうかを評価できないから\n",
    "・では元々あった「test」は何のためにある？\n",
    "    →本当に予測したいデータ。答えがない（Kaggle側が持っている）\n",
    "・データを分割するときに用いる関数は？\n",
    "    →train_test_split()\n",
    "\"\"\""
   ]
  },
  {
   "cell_type": "code",
   "execution_count": 28,
   "id": "da51516e",
   "metadata": {},
   "outputs": [
    {
     "data": {
      "text/plain": [
       "'モデルの構築'"
      ]
     },
     "execution_count": 28,
     "metadata": {},
     "output_type": "execute_result"
    }
   ],
   "source": [
    "\"\"\"モデルの構築\"\"\""
   ]
  },
  {
   "cell_type": "code",
   "execution_count": 31,
   "id": "31842e38",
   "metadata": {},
   "outputs": [
    {
     "name": "stdout",
     "output_type": "stream",
     "text": [
      "判別率： 0.7873134328358209\n"
     ]
    }
   ],
   "source": [
    "\"\"\"\n",
    "scikit-learnによる決定木の実装\n",
    "決定木を実装し、訓練させよう\n",
    "\n",
    "Classifier：分類器\n",
    "Regressor：回帰\n",
    "\"\"\"\n",
    "# モデルの作成\n",
    "from sklearn import tree\n",
    "model=tree.DecisionTreeClassifier()\n",
    "\n",
    "# 作成したモデルに学習させる\n",
    "# fit(説明変数, 目的変数)\n",
    "model.fit(tr_train_X, tr_train_Y)\n",
    "\n",
    "# 予測　predictというオブジェクトに予測結果が入る\n",
    "predict=model.predict(tr_test_X)\n",
    "\n",
    "# モデルの予測精度確認　metrics.accuracy_score(評価したいモデルが出力した予測結果,実際の目的変数)\n",
    "from sklearn import metrics\n",
    "print(\"判別率：\",metrics.accuracy_score(predict, tr_test_Y))\n",
    "\n",
    "# 約78.3%の正答率"
   ]
  },
  {
   "cell_type": "code",
   "execution_count": 34,
   "id": "798e1e3d",
   "metadata": {},
   "outputs": [
    {
     "data": {
      "text/plain": [
       "'\\nアンサンブル学習のメリット\\n・予測性能の高い分類器を作成できる可能性がある\\n・特に過学習を防ぐのに有効\\n    ・過学習\\n        ・イメージ的には「答えの丸暗記」\\n        ・学習で使っていないデータに対して、うまく予測できなくなる現象\\n        \\n        本質的なデータの傾向を捉えられていない\\n        テストの同じ過去問を繰り返し解いて過去問は完璧に解けるようになっても、\\n        それは「過去問の」答えを覚えただけで、本質を理解したとは限らない\\n'"
      ]
     },
     "execution_count": 34,
     "metadata": {},
     "output_type": "execute_result"
    }
   ],
   "source": [
    "\"\"\"\n",
    "アンサンブル学習のメリット\n",
    "・予測性能の高い分類器を作成できる可能性がある\n",
    "・特に過学習を防ぐのに有効\n",
    "    ・過学習\n",
    "        ・イメージ的には「答えの丸暗記」\n",
    "        ・学習で使っていないデータに対して、うまく予測できなくなる現象\n",
    "        \n",
    "        本質的なデータの傾向を捉えられていない\n",
    "        テストの同じ過去問を繰り返し解いて過去問は完璧に解けるようになっても、\n",
    "        それは「過去問の」答えを覚えただけで、本質を理解したとは限らない\n",
    "\"\"\""
   ]
  },
  {
   "cell_type": "code",
   "execution_count": 41,
   "id": "391d2955",
   "metadata": {},
   "outputs": [
    {
     "name": "stdout",
     "output_type": "stream",
     "text": [
      "判別率： 0.7873134328358209\n"
     ]
    }
   ],
   "source": [
    "\"\"\"\n",
    "scikit-learnによるランダムフォレストの実装\n",
    "In [31]のモデルの作成部分を書き換えるだけ\n",
    "\"\"\"\n",
    "# モデルの作成　n_estimators:モデル内に作成する決定木の数\n",
    "from sklearn.ensemble import RandomForestClassifier\n",
    "model=RandomForestClassifier(n_estimators=100)\n",
    "\n",
    "# 学習\n",
    "model.fit(tr_train_X, tr_train_Y)\n",
    "\n",
    "# 予測\n",
    "predict=model.predict(tr_test_X)\n",
    "\n",
    "# 精度確認\n",
    "print(\"判別率：\", metrics.accuracy_score(predict, tr_test_Y))\n",
    "\n",
    "# 約80%の正答率　先ほどの決定木より性能が少し向上した\n",
    "# 解説では78.7%だった\n",
    "# この処理を走らせるたびに判別率が変わる"
   ]
  },
  {
   "cell_type": "code",
   "execution_count": 42,
   "id": "72975a37",
   "metadata": {},
   "outputs": [
    {
     "data": {
      "text/plain": [
       "'モデルの検証'"
      ]
     },
     "execution_count": 42,
     "metadata": {},
     "output_type": "execute_result"
    }
   ],
   "source": [
    "\"\"\"モデルの検証\"\"\""
   ]
  },
  {
   "cell_type": "code",
   "execution_count": 43,
   "id": "8c5a2027",
   "metadata": {},
   "outputs": [
    {
     "data": {
      "text/plain": [
       "'\\n分類器作成・データへの適用完了\\n可視化・前処理を経て、決定木・ランダムフォレストを用いた分類完了\\n    →「分類性能を精密に評価する・性能を上げる」という観点でできることはない？\\n    ・別のテストデータに対しても同程度の精度は出るのか？\\n    ・tr_test_Xに割り当てたtrainの30%にたまたまいい精度が出ただけで、ほかのデータでは全然だったりしないの？\\n        →「データ分割」に対する工夫\\n    ・同じアルゴリズムでも調整次第でもっと性能が出ないか？\\n    ・最適な決定木の数（n_estimators）は？\\n        →ハイパーパラメータチューニング\\n'"
      ]
     },
     "execution_count": 43,
     "metadata": {},
     "output_type": "execute_result"
    }
   ],
   "source": [
    "\"\"\"\n",
    "分類器作成・データへの適用完了\n",
    "可視化・前処理を経て、決定木・ランダムフォレストを用いた分類完了\n",
    "    →「分類性能を精密に評価する・性能を上げる」という観点でできることはない？\n",
    "    ・別のテストデータに対しても同程度の精度は出るのか？\n",
    "    ・tr_test_Xに割り当てたtrainの30%にたまたまいい精度が出ただけで、ほかのデータでは全然だったりしないの？\n",
    "        →「データ分割」に対する工夫\n",
    "    ・同じアルゴリズムでも調整次第でもっと性能が出ないか？\n",
    "    ・最適な決定木の数（n_estimators）は？\n",
    "        →ハイパーパラメータチューニング\n",
    "\"\"\""
   ]
  },
  {
   "cell_type": "code",
   "execution_count": 44,
   "id": "db3cb1e2",
   "metadata": {},
   "outputs": [
    {
     "data": {
      "text/plain": [
       "'\\n「データ分割」に対する工夫\\nこれまでのデータ分割の問題点\\n    先ほどのtrainの分割でindexの下から30%をtr_testにしたとしよう\\n    この方法ではtr_testの中身が偏っている可能性あり\\n    \\n    trainの分割でindexの真ん中から30%をtr_testにしたら、予測精度が20%になることもあり得る\\n    \\nどのようにすればデータ全体に対する予測精度を出せるか？\\n'"
      ]
     },
     "execution_count": 44,
     "metadata": {},
     "output_type": "execute_result"
    }
   ],
   "source": [
    "\"\"\"\n",
    "「データ分割」に対する工夫\n",
    "これまでのデータ分割の問題点\n",
    "    先ほどのtrainの分割でindexの下から30%をtr_testにしたとしよう\n",
    "    この方法ではtr_testの中身が偏っている可能性あり\n",
    "    \n",
    "    trainの分割でindexの真ん中から30%をtr_testにしたら、予測精度が20%になることもあり得る\n",
    "    \n",
    "どのようにすればデータ全体に対する予測精度を出せるか？\n",
    "\"\"\""
   ]
  },
  {
   "cell_type": "code",
   "execution_count": 46,
   "id": "60636b41",
   "metadata": {},
   "outputs": [
    {
     "data": {
      "text/plain": [
       "'\\n全部のデータをテストに使ってしまえば良い\\n１．データをk個に分割し\\n２．そのうちの一つをテスト役に評価\\n３．テスト役をまだテスト役になっていないほかの分割されたデータに変えて再評価\\n４．テスト役が一巡するまで繰り返し、k回の評価の平均を最終評価とする\\n\\n１回目：[test, train, train, train, train,...]\\u3000分類精度７８％\\n２回目：[train, test, train, train, train,...]\\u3000分類精度８２％\\n...\\nｋ回目：[..., train, train, train, train, test]\\u3000分類精度７９％\\n'"
      ]
     },
     "execution_count": 46,
     "metadata": {},
     "output_type": "execute_result"
    }
   ],
   "source": [
    "\"\"\"\n",
    "全部のデータをテストに使ってしまえば良い\n",
    "１．データをk個に分割し\n",
    "２．そのうちの一つをテスト役に評価\n",
    "３．テスト役をまだテスト役になっていないほかの分割されたデータに変えて再評価\n",
    "４．テスト役が一巡するまで繰り返し、k回の評価の平均を最終評価とする\n",
    "\n",
    "１回目：[test, train, train, train, train,...]　分類精度７８％\n",
    "２回目：[train, test, train, train, train,...]　分類精度８２％\n",
    "...\n",
    "ｋ回目：[..., train, train, train, train, test]　分類精度７９％\n",
    "\"\"\""
   ]
  },
  {
   "cell_type": "code",
   "execution_count": 47,
   "id": "af806308",
   "metadata": {},
   "outputs": [
    {
     "data": {
      "text/plain": [
       "'\\nデータ分割方法の種類\\n\\nホールドアウト検証\\n・最初に試した分割方法（データの一部を一度だけテスト役に抜き出して評価）\\n・過学習（一部のデータに対してのみ成績が良い）を検知できない\\n\\nK-分割交差検証（In [46]の全部のデータをテストに使う方法）\\n・全ての訓練データにテストを受けさせる\\n・過学習を検知できる\\n'"
      ]
     },
     "execution_count": 47,
     "metadata": {},
     "output_type": "execute_result"
    }
   ],
   "source": [
    "\"\"\"\n",
    "データ分割方法の種類\n",
    "\n",
    "ホールドアウト検証\n",
    "・最初に試した分割方法（データの一部を一度だけテスト役に抜き出して評価）\n",
    "・過学習（一部のデータに対してのみ成績が良い）を検知できない\n",
    "\n",
    "K-分割交差検証（In [46]の全部のデータをテストに使う方法）\n",
    "・全ての訓練データにテストを受けさせる\n",
    "・過学習を検知できる\n",
    "\"\"\""
   ]
  },
  {
   "cell_type": "code",
   "execution_count": 53,
   "id": "76ca6bb1",
   "metadata": {},
   "outputs": [
    {
     "name": "stdout",
     "output_type": "stream",
     "text": [
      "[0.79329609 0.78089888 0.84831461 0.79775281 0.79213483]\n",
      "平均精度：0.8024794425961961\n"
     ]
    }
   ],
   "source": [
    "# K-分割交差検証の実装\n",
    "from sklearn.model_selection import KFold, cross_val_score, cross_val_predict\n",
    "\n",
    "# K分割交差検証の設定（n_splits:分割の個数K、random_state:分割する前のshuffleの仕方を固定するための値）\n",
    "kf=KFold(n_splits=5, random_state=30, shuffle=True)\n",
    "\n",
    "# 交差検証（クロスバリュデーション）をおこない結果を評価する\n",
    "x=train[train.columns[1:]] # 説明変数\n",
    "y=train[\"Survived\"] # 目的変数\n",
    "# cross_val_score(どんなモデルを実装するか（決定木やランダムフォレスト等）, 説明変数, 目的変数, どんなふうに交差検証の分割をするか)\n",
    "# k回分の評価結果がすべて入っている\n",
    "# modelは先程作成したmodel=RandomForestClassifier(n_estimators=100)を代入している？\n",
    "cv_result = cross_val_score(model, x, y, cv = kf)\n",
    "print(cv_result)\n",
    "print(f\"平均精度：{cv_result.mean()}\")"
   ]
  },
  {
   "cell_type": "code",
   "execution_count": 49,
   "id": "93457941",
   "metadata": {},
   "outputs": [
    {
     "data": {
      "text/plain": [
       "'\\n実際の実装方法例\\n１．\\n    K-分割交差検証により、モデルの精度が良いと判断できたら、\\n    全データを学習用にしてモデルを構築する\\n２．\\n    K-分割交差検証でモデルの精度が良いと判断できたら、もう一度ホールドアウトでモデルを作成し、\\n    実装後に、日々追加される実際のデータをモデルに追加していき、ホールドアウトで残しておいた評価用のデータで、都度更新されるモデルの評価をする\\n'"
      ]
     },
     "execution_count": 49,
     "metadata": {},
     "output_type": "execute_result"
    }
   ],
   "source": [
    "\"\"\"\n",
    "実際の実装方法例\n",
    "１．\n",
    "    K-分割交差検証により、モデルの精度が良いと判断できたら、\n",
    "    全データを学習用にしてモデルを構築する\n",
    "２．\n",
    "    K-分割交差検証でモデルの精度が良いと判断できたら、もう一度ホールドアウトでモデルを作成し、\n",
    "    実装後に、日々追加される実際のデータをモデルに追加していき、ホールドアウトで残しておいた評価用のデータで、都度更新されるモデルの評価をする\n",
    "\"\"\""
   ]
  },
  {
   "cell_type": "code",
   "execution_count": 50,
   "id": "3faeba4f",
   "metadata": {},
   "outputs": [
    {
     "data": {
      "text/plain": [
       "'\\nハイパーパラメータチューニングとは？\\n・ハイパーパラメータ：モデルが持つパラメータ（人間が決める必要のあるもの）\\n・ハイパーパラメータチューニング：モデルのパラメータの最適化\\n・RandomForestのハイパーパラメータとは？\\n    ・n_estimator:元となる弱学習器の木構造の数\\n    ・max_depth:決定木の深さの最大値\\n    ・criterion:分岐を作る際の指標（ジニ係数、エントロピー、etc.）\\n    ...などなど\\n'"
      ]
     },
     "execution_count": 50,
     "metadata": {},
     "output_type": "execute_result"
    }
   ],
   "source": [
    "\"\"\"\n",
    "ハイパーパラメータチューニングとは？\n",
    "・ハイパーパラメータ：モデルが持つパラメータ（人間が決める必要のあるもの）\n",
    "・ハイパーパラメータチューニング：モデルのパラメータの最適化\n",
    "・RandomForestのハイパーパラメータとは？\n",
    "    ・n_estimator:元となる弱学習器の木構造の数\n",
    "    ・max_depth:決定木の深さの最大値\n",
    "    ・criterion:分岐を作る際の指標（ジニ係数、エントロピー、etc.）\n",
    "    ...などなど\n",
    "\"\"\""
   ]
  },
  {
   "cell_type": "code",
   "execution_count": 51,
   "id": "f7a92584",
   "metadata": {},
   "outputs": [
    {
     "data": {
      "text/plain": [
       "'\\n・チューニングの手法：\\n    ・ランダムサーチ\\n    ・グリッドサーチ\\n    ・ベイズ最適化\\u3000...等\\n・複数のパラメータの調整は時間とマシンパワーを要する\\n    ・チューニングしたいパラメータが多いほど時間がかかる\\n    ・ディープラーニングでは学習に１日ざらに掛かる\\n・今回はグリッドサーチを実施\\n'"
      ]
     },
     "execution_count": 51,
     "metadata": {},
     "output_type": "execute_result"
    }
   ],
   "source": [
    "\"\"\"\n",
    "・チューニングの手法：\n",
    "    ・ランダムサーチ\n",
    "    ・グリッドサーチ\n",
    "    ・ベイズ最適化　...等\n",
    "・複数のパラメータの調整は時間とマシンパワーを要する\n",
    "    ・チューニングしたいパラメータが多いほど時間がかかる\n",
    "    ・ディープラーニングでは学習に１日ざらに掛かる\n",
    "・今回はグリッドサーチを実施\n",
    "\"\"\""
   ]
  },
  {
   "cell_type": "code",
   "execution_count": 52,
   "id": "78cc07cc",
   "metadata": {},
   "outputs": [
    {
     "data": {
      "text/plain": [
       "'\\nグリッドサーチの実装\\nグリッドサーチ\\n    範囲を決めてパラメータを網羅的に探索する手法\\n    \\n    例：\\n        パラメータ１：n_estimators、単位１０\\n        パラメータ２：max_depth、単位１\\n        パラメータ１を横軸、パラメータ２を縦軸とし、パラメータ１＝５０、パラメータ２＝３とすると２４通りのパラメータの組み合わせができる\\n        （どちらのパラメータも０から始まるため？）\\n        ２４通りそれぞれで学習/評価し、精度の最も良かったパラメータを得る\\n    \\n'"
      ]
     },
     "execution_count": 52,
     "metadata": {},
     "output_type": "execute_result"
    }
   ],
   "source": [
    "\"\"\"\n",
    "グリッドサーチの実装\n",
    "グリッドサーチ\n",
    "    範囲を決めてパラメータを網羅的に探索する手法\n",
    "    \n",
    "    例：\n",
    "        パラメータ１：n_estimators、単位１０\n",
    "        パラメータ２：max_depth、単位１\n",
    "        パラメータ１を横軸、パラメータ２を縦軸とし、パラメータ１＝５０、パラメータ２＝３とすると２４通りのパラメータの組み合わせができる\n",
    "        （どちらのパラメータも０から始まるため？）\n",
    "        ２４通りそれぞれで学習/評価し、精度の最も良かったパラメータを得る\n",
    "    \n",
    "\"\"\""
   ]
  },
  {
   "cell_type": "code",
   "execution_count": 54,
   "id": "738c5623",
   "metadata": {},
   "outputs": [
    {
     "name": "stdout",
     "output_type": "stream",
     "text": [
      "Fitting 5 folds for each of 9 candidates, totalling 45 fits\n"
     ]
    },
    {
     "data": {
      "text/html": [
       "<style>#sk-container-id-1 {color: black;background-color: white;}#sk-container-id-1 pre{padding: 0;}#sk-container-id-1 div.sk-toggleable {background-color: white;}#sk-container-id-1 label.sk-toggleable__label {cursor: pointer;display: block;width: 100%;margin-bottom: 0;padding: 0.3em;box-sizing: border-box;text-align: center;}#sk-container-id-1 label.sk-toggleable__label-arrow:before {content: \"▸\";float: left;margin-right: 0.25em;color: #696969;}#sk-container-id-1 label.sk-toggleable__label-arrow:hover:before {color: black;}#sk-container-id-1 div.sk-estimator:hover label.sk-toggleable__label-arrow:before {color: black;}#sk-container-id-1 div.sk-toggleable__content {max-height: 0;max-width: 0;overflow: hidden;text-align: left;background-color: #f0f8ff;}#sk-container-id-1 div.sk-toggleable__content pre {margin: 0.2em;color: black;border-radius: 0.25em;background-color: #f0f8ff;}#sk-container-id-1 input.sk-toggleable__control:checked~div.sk-toggleable__content {max-height: 200px;max-width: 100%;overflow: auto;}#sk-container-id-1 input.sk-toggleable__control:checked~label.sk-toggleable__label-arrow:before {content: \"▾\";}#sk-container-id-1 div.sk-estimator input.sk-toggleable__control:checked~label.sk-toggleable__label {background-color: #d4ebff;}#sk-container-id-1 div.sk-label input.sk-toggleable__control:checked~label.sk-toggleable__label {background-color: #d4ebff;}#sk-container-id-1 input.sk-hidden--visually {border: 0;clip: rect(1px 1px 1px 1px);clip: rect(1px, 1px, 1px, 1px);height: 1px;margin: -1px;overflow: hidden;padding: 0;position: absolute;width: 1px;}#sk-container-id-1 div.sk-estimator {font-family: monospace;background-color: #f0f8ff;border: 1px dotted black;border-radius: 0.25em;box-sizing: border-box;margin-bottom: 0.5em;}#sk-container-id-1 div.sk-estimator:hover {background-color: #d4ebff;}#sk-container-id-1 div.sk-parallel-item::after {content: \"\";width: 100%;border-bottom: 1px solid gray;flex-grow: 1;}#sk-container-id-1 div.sk-label:hover label.sk-toggleable__label {background-color: #d4ebff;}#sk-container-id-1 div.sk-serial::before {content: \"\";position: absolute;border-left: 1px solid gray;box-sizing: border-box;top: 0;bottom: 0;left: 50%;z-index: 0;}#sk-container-id-1 div.sk-serial {display: flex;flex-direction: column;align-items: center;background-color: white;padding-right: 0.2em;padding-left: 0.2em;position: relative;}#sk-container-id-1 div.sk-item {position: relative;z-index: 1;}#sk-container-id-1 div.sk-parallel {display: flex;align-items: stretch;justify-content: center;background-color: white;position: relative;}#sk-container-id-1 div.sk-item::before, #sk-container-id-1 div.sk-parallel-item::before {content: \"\";position: absolute;border-left: 1px solid gray;box-sizing: border-box;top: 0;bottom: 0;left: 50%;z-index: -1;}#sk-container-id-1 div.sk-parallel-item {display: flex;flex-direction: column;z-index: 1;position: relative;background-color: white;}#sk-container-id-1 div.sk-parallel-item:first-child::after {align-self: flex-end;width: 50%;}#sk-container-id-1 div.sk-parallel-item:last-child::after {align-self: flex-start;width: 50%;}#sk-container-id-1 div.sk-parallel-item:only-child::after {width: 0;}#sk-container-id-1 div.sk-dashed-wrapped {border: 1px dashed gray;margin: 0 0.4em 0.5em 0.4em;box-sizing: border-box;padding-bottom: 0.4em;background-color: white;}#sk-container-id-1 div.sk-label label {font-family: monospace;font-weight: bold;display: inline-block;line-height: 1.2em;}#sk-container-id-1 div.sk-label-container {text-align: center;}#sk-container-id-1 div.sk-container {/* jupyter's `normalize.less` sets `[hidden] { display: none; }` but bootstrap.min.css set `[hidden] { display: none !important; }` so we also need the `!important` here to be able to override the default hidden behavior on the sphinx rendered scikit-learn.org. See: https://github.com/scikit-learn/scikit-learn/issues/21755 */display: inline-block !important;position: relative;}#sk-container-id-1 div.sk-text-repr-fallback {display: none;}</style><div id=\"sk-container-id-1\" class=\"sk-top-container\"><div class=\"sk-text-repr-fallback\"><pre>GridSearchCV(cv=5, estimator=RandomForestClassifier(random_state=0),\n",
       "             param_grid={&#x27;n_estimators&#x27;: range(100, 1000, 100)}, verbose=True)</pre><b>In a Jupyter environment, please rerun this cell to show the HTML representation or trust the notebook. <br />On GitHub, the HTML representation is unable to render, please try loading this page with nbviewer.org.</b></div><div class=\"sk-container\" hidden><div class=\"sk-item sk-dashed-wrapped\"><div class=\"sk-label-container\"><div class=\"sk-label sk-toggleable\"><input class=\"sk-toggleable__control sk-hidden--visually\" id=\"sk-estimator-id-1\" type=\"checkbox\" ><label for=\"sk-estimator-id-1\" class=\"sk-toggleable__label sk-toggleable__label-arrow\">GridSearchCV</label><div class=\"sk-toggleable__content\"><pre>GridSearchCV(cv=5, estimator=RandomForestClassifier(random_state=0),\n",
       "             param_grid={&#x27;n_estimators&#x27;: range(100, 1000, 100)}, verbose=True)</pre></div></div></div><div class=\"sk-parallel\"><div class=\"sk-parallel-item\"><div class=\"sk-item\"><div class=\"sk-label-container\"><div class=\"sk-label sk-toggleable\"><input class=\"sk-toggleable__control sk-hidden--visually\" id=\"sk-estimator-id-2\" type=\"checkbox\" ><label for=\"sk-estimator-id-2\" class=\"sk-toggleable__label sk-toggleable__label-arrow\">estimator: RandomForestClassifier</label><div class=\"sk-toggleable__content\"><pre>RandomForestClassifier(random_state=0)</pre></div></div></div><div class=\"sk-serial\"><div class=\"sk-item\"><div class=\"sk-estimator sk-toggleable\"><input class=\"sk-toggleable__control sk-hidden--visually\" id=\"sk-estimator-id-3\" type=\"checkbox\" ><label for=\"sk-estimator-id-3\" class=\"sk-toggleable__label sk-toggleable__label-arrow\">RandomForestClassifier</label><div class=\"sk-toggleable__content\"><pre>RandomForestClassifier(random_state=0)</pre></div></div></div></div></div></div></div></div></div></div>"
      ],
      "text/plain": [
       "GridSearchCV(cv=5, estimator=RandomForestClassifier(random_state=0),\n",
       "             param_grid={'n_estimators': range(100, 1000, 100)}, verbose=True)"
      ]
     },
     "execution_count": 54,
     "metadata": {},
     "output_type": "execute_result"
    }
   ],
   "source": [
    "# グリッドサーチの実装\n",
    "\n",
    "# CVはクロスバリュデーションの略\n",
    "from sklearn.model_selection import GridSearchCV\n",
    "\n",
    "# サーチするパラメータを定義 パラメータの名前と検証するパターン/範囲のリスト（rangeはリストを作る関数）を辞書型で入力\n",
    "# n_estimatorsを100,200,300,...900で検証\n",
    "param={\"n_estimators\":range(100, 1000, 100)}\n",
    "\n",
    "# GridSearchオブジェクトの作成\n",
    "# estimator:弱学習器、今回はランダムフォレスト\n",
    "# param_grid:サーチするパラメータとその範囲（辞書型）\n",
    "# verbose:Trueで学習の過程を表示する\n",
    "# cv:クロスバリュデーションの分割数、今回は５\n",
    "GS_rf=GridSearchCV(estimator=RandomForestClassifier(random_state=0),\n",
    "                  param_grid=param,\n",
    "                  verbose=True,\n",
    "                  cv=5)\n",
    "\n",
    "# 学習\n",
    "GS_rf.fit(x,y)"
   ]
  },
  {
   "cell_type": "code",
   "execution_count": 56,
   "id": "069075e5",
   "metadata": {},
   "outputs": [
    {
     "name": "stdout",
     "output_type": "stream",
     "text": [
      "ベストスコア：0.8103320569957944\n",
      "最適なパラメータ：RandomForestClassifier(n_estimators=700, random_state=0)\n"
     ]
    }
   ],
   "source": [
    "# サーチ結果を標準出力\n",
    "print(f\"ベストスコア：{GS_rf.best_score_}\")\n",
    "print(f\"最適なパラメータ：{GS_rf.best_estimator_}\")\n",
    "# 最適な弱学習器の数は700本とわかる"
   ]
  },
  {
   "cell_type": "code",
   "execution_count": 57,
   "id": "3bc9fe4f",
   "metadata": {},
   "outputs": [],
   "source": [
    "# テストデータに対する予測\n",
    "# 最後に、正解のない(ラベルの付いていない)テストデータに対して予測を行う\n",
    "\n",
    "# グリッドサーチで得られたベストなモデルを用いて分類を行う\n",
    "model = GS_rf.best_estimator_\n",
    "\n",
    "# 学習\n",
    "# train.columns[0]は\"Survived\"なので、train[train.columns[0]]はtrain[\"Survived\"]である\n",
    "# 同様に、train[train.columns[1:]]のtrain[]の引数はその他の列名のリストになる、全ての列名を列挙する必要がなくなる\n",
    "model.fit(train[train.columns[1:]], train[train.columns[0]])\n",
    "\n",
    "# テストデータに対する予測\n",
    "test_prediction = model.predict(test)"
   ]
  },
  {
   "cell_type": "code",
   "execution_count": 59,
   "id": "b417e0f0",
   "metadata": {},
   "outputs": [
    {
     "name": "stdout",
     "output_type": "stream",
     "text": [
      "   PassengerId  Survived\n",
      "0          892         0\n",
      "1          893         0\n",
      "2          894         0\n",
      "3          895         0\n",
      "4          896         0\n",
      "5          897         0\n",
      "6          898         0\n",
      "7          899         0\n",
      "8          900         1\n",
      "9          901         0\n"
     ]
    }
   ],
   "source": [
    "# テストデータに対する予測\n",
    "# Kaggle側の要求に合わせて予測結果をまとめる\n",
    "import numpy as np\n",
    "\n",
    "# Kaggleの課題としてPassengerId 892～1310を予測することが要求されているため\n",
    "# idを生成しておく\n",
    "passenger_id = np.arange(892, 1310)\n",
    "\n",
    "# PassengerIdと予測結果をデータフレーム化\n",
    "test_result = pd.DataFrame({\"PassengerId\": passenger_id, \"Survived\": test_prediction})\n",
    "print(test_result.head(10))"
   ]
  },
  {
   "cell_type": "code",
   "execution_count": 61,
   "id": "3adc6104",
   "metadata": {},
   "outputs": [
    {
     "data": {
      "text/plain": [
       "'\\nフォルダの中に生成されたtitanic_forsubmission.csvを開いて、\\nPassengerIdとSurvived列だけの表が出れば、OK\\n未知の乗客に対するSurvivedが予測されている\\n\\n（通常のKaggleであれば、この結果をWebsiteから投稿すると、評価の精度を教えてくれる）\\n'"
      ]
     },
     "execution_count": 61,
     "metadata": {},
     "output_type": "execute_result"
    }
   ],
   "source": [
    "# 生成したデータフレームをcsvとして保存\n",
    "# index = Falseでindexが不要だったので削除した\n",
    "test_result.to_csv(\"titanic_forsubmission_jisaku.csv\", index = False)\n",
    "\n",
    "\"\"\"\n",
    "フォルダの中に生成されたtitanic_forsubmission.csvを開いて、\n",
    "PassengerIdとSurvived列だけの表が出れば、OK\n",
    "未知の乗客に対するSurvivedが予測されている\n",
    "\n",
    "（通常のKaggleであれば、この結果をWebsiteから投稿すると、評価の精度を教えてくれる）\n",
    "\"\"\""
   ]
  },
  {
   "cell_type": "code",
   "execution_count": 71,
   "id": "0e6d0afb",
   "metadata": {},
   "outputs": [
    {
     "data": {
      "text/plain": [
       "<Axes: ylabel='feature_importances'>"
      ]
     },
     "execution_count": 71,
     "metadata": {},
     "output_type": "execute_result"
    },
    {
     "data": {
      "image/png": "[encoded data removed]",
      "text/plain": [
       "<Figure size 640x480 with 1 Axes>"
      ]
     },
     "metadata": {},
     "output_type": "display_data"
    }
   ],
   "source": [
    "\"\"\"\n",
    "「予測に効いた」重要な特徴とは？\n",
    "予測に効いた変数はどれ？\n",
    "    例えば、実務にて、商品の価格設定には「気温」、「湿度」が大きく影響すると分かれば、\n",
    "    それらの変数に応じて次のアクションを起こせる\n",
    "\"\"\"\n",
    "# 分類に用いた説明変数について、それぞれが分類に貢献した度合いをランダムフォレストの場合はfeature_importances_で取得できる\n",
    "import seaborn as sns\n",
    "\n",
    "# モデルは先ほど作成した、グリッドサーチで得られた最適なモデル　model = GS_rf.best_estimator_\n",
    "# feature_importancesはfeature_importances列だけのデータフレーム\n",
    "# 列の各値（model.feature_importances_）は、各説明変数の貢献度？\n",
    "feature_importances=pd.DataFrame({\"feature_importances\": model.feature_importances_})\n",
    "# 解説のsns.barplot(tr_train_X.columns, feature_importances[\"feature_importances\"])ではエラーが出た\n",
    "sns.barplot(data = feature_importances, x = tr_train_X.columns, y = \"feature_importances\")\n",
    "\n",
    "# Title(敬称)が一番予測に貢献\n",
    "# 正規表現でTitleを抜き出す処理を作って良かった"
   ]
  },
  {
   "cell_type": "code",
   "execution_count": 72,
   "id": "aca6608e",
   "metadata": {},
   "outputs": [
    {
     "data": {
      "text/plain": [
       "'\\nDay8で学んだ知識の確認\\n・アンサンブル学習とはどのような学習方法？\\n    →弱学習器を複数用いて結果を多数決で決める手法\\n・scikit-learnの「学習を行う関数」と「予測を行う関数」は？\\n    ・学習：fit\\n    ・予測：predict\\n・K-分割交差検証とはどのようなデータ分割方法？\\n    →trainデータをK分割して、全データをテスト工程に用いる方法\\n・グリッドサーチとはどのようなハイパーパラメータ探索手法？\\n    →指定した範囲/刻みでパラメータを網羅的に探索する方法\\n'"
      ]
     },
     "execution_count": 72,
     "metadata": {},
     "output_type": "execute_result"
    }
   ],
   "source": [
    "\"\"\"\n",
    "Day8で学んだ知識の確認\n",
    "・アンサンブル学習とはどのような学習方法？\n",
    "    →弱学習器を複数用いて結果を多数決で決める手法\n",
    "・scikit-learnの「学習を行う関数」と「予測を行う関数」は？\n",
    "    ・学習：fit\n",
    "    ・予測：predict\n",
    "・K-分割交差検証とはどのようなデータ分割方法？\n",
    "    →trainデータをK分割して、全データをテスト工程に用いる方法\n",
    "・グリッドサーチとはどのようなハイパーパラメータ探索手法？\n",
    "    →指定した範囲/刻みでパラメータを網羅的に探索する方法\n",
    "\"\"\""
   ]
  },
  {
   "cell_type": "code",
   "execution_count": null,
   "id": "558aa20e",
   "metadata": {},
   "outputs": [],
   "source": []
  }
 ],
 "metadata": {
  "kernelspec": {
   "display_name": "Python 3 (ipykernel)",
   "language": "python",
   "name": "python3"
  },
  "language_info": {
   "codemirror_mode": {
    "name": "ipython",
    "version": 3
   },
   "file_extension": ".py",
   "mimetype": "text/x-python",
   "name": "python",
   "nbconvert_exporter": "python",
   "pygments_lexer": "ipython3",
   "version": "3.10.9"
  }
 },
 "nbformat": 4,
 "nbformat_minor": 5
}
